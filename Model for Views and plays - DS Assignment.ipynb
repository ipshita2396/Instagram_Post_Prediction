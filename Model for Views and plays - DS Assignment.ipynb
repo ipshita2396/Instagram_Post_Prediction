{
 "cells": [
  {
   "cell_type": "code",
   "execution_count": 1,
   "id": "546cd9a4",
   "metadata": {},
   "outputs": [],
   "source": [
    "import pandas as pd\n",
    "import re\n",
    "import datetime\n",
    "import json\n",
    "from datetime import datetime\n",
    "import time\n",
    "import seaborn as sb\n",
    "\n",
    "#importorting libraries for NLP\n",
    "from nltk.corpus import stopwords\n",
    "stop = stopwords.words('english')\n",
    "from textblob import TextBlob\n",
    "import string\n",
    "import nltk\n",
    "from nltk.stem.wordnet import WordNetLemmatizer\n",
    "lmtzr = WordNetLemmatizer()\n",
    "\n",
    "\n",
    "#importing librraies for data modelling \n",
    "from sklearn.model_selection import train_test_split\n",
    "from sklearn.linear_model import LinearRegression\n",
    "from sklearn import metrics \n",
    "from mlxtend.evaluate import bias_variance_decomp\n",
    "import xgboost as xg\n",
    "\n",
    "\n",
    "\n",
    "profile=pd.read_csv('instagram_profiles.csv')\n",
    "profile_post=pd.read_csv('instagram_posts.csv')"
   ]
  },
  {
   "cell_type": "markdown",
   "id": "044dbe00",
   "metadata": {},
   "source": [
    "# Basic EDA for Instagram Profiles Data  "
   ]
  },
  {
   "cell_type": "code",
   "execution_count": 74,
   "id": "d101342b",
   "metadata": {},
   "outputs": [
    {
     "data": {
      "text/plain": [
       "(537, 10)"
      ]
     },
     "execution_count": 74,
     "metadata": {},
     "output_type": "execute_result"
    }
   ],
   "source": [
    "profile.shape"
   ]
  },
  {
   "cell_type": "code",
   "execution_count": 76,
   "id": "f867fc2b",
   "metadata": {},
   "outputs": [
    {
     "data": {
      "text/html": [
       "<div>\n",
       "<style scoped>\n",
       "    .dataframe tbody tr th:only-of-type {\n",
       "        vertical-align: middle;\n",
       "    }\n",
       "\n",
       "    .dataframe tbody tr th {\n",
       "        vertical-align: top;\n",
       "    }\n",
       "\n",
       "    .dataframe thead th {\n",
       "        text-align: right;\n",
       "    }\n",
       "</style>\n",
       "<table border=\"1\" class=\"dataframe\">\n",
       "  <thead>\n",
       "    <tr style=\"text-align: right;\">\n",
       "      <th></th>\n",
       "      <th>ig_id</th>\n",
       "      <th>username</th>\n",
       "      <th>metadata</th>\n",
       "      <th>followers</th>\n",
       "      <th>follows</th>\n",
       "      <th>total_post_count</th>\n",
       "      <th>crawled</th>\n",
       "      <th>created_at</th>\n",
       "      <th>updated_at</th>\n",
       "      <th>app_crawled</th>\n",
       "    </tr>\n",
       "  </thead>\n",
       "  <tbody>\n",
       "    <tr>\n",
       "      <th>0</th>\n",
       "      <td>1181592320</td>\n",
       "      <td>randomvarun</td>\n",
       "      <td>{\"name\": \"Kumar Varun\", \"website\": \"https://yo...</td>\n",
       "      <td>152812</td>\n",
       "      <td>587</td>\n",
       "      <td>340</td>\n",
       "      <td>2023-03-28</td>\n",
       "      <td>2022-09-28 05:09:43.975459+00</td>\n",
       "      <td>2022-09-28 05:09:43.975459+00</td>\n",
       "      <td>2023-02-07 14:53:13+00</td>\n",
       "    </tr>\n",
       "    <tr>\n",
       "      <th>1</th>\n",
       "      <td>290516871</td>\n",
       "      <td>ig_mamba</td>\n",
       "      <td>{\"name\": \"Salman Ahmad\", \"website\": \"\", \"biogr...</td>\n",
       "      <td>455664</td>\n",
       "      <td>287</td>\n",
       "      <td>300</td>\n",
       "      <td>2023-03-28</td>\n",
       "      <td>2023-03-01 10:55:39.567239+00</td>\n",
       "      <td>2023-03-01 10:55:39.567239+00</td>\n",
       "      <td>NaN</td>\n",
       "    </tr>\n",
       "    <tr>\n",
       "      <th>2</th>\n",
       "      <td>4483453272</td>\n",
       "      <td>wakefitco</td>\n",
       "      <td>{\"name\": \"Wakefit Solutions\", \"website\": \"http...</td>\n",
       "      <td>66918</td>\n",
       "      <td>31</td>\n",
       "      <td>1592</td>\n",
       "      <td>2022-12-01</td>\n",
       "      <td>2022-12-01 10:24:18.006169+00</td>\n",
       "      <td>2022-12-01 10:24:18.006169+00</td>\n",
       "      <td>2023-01-18 18:09:23+00</td>\n",
       "    </tr>\n",
       "    <tr>\n",
       "      <th>3</th>\n",
       "      <td>456967256</td>\n",
       "      <td>kennethseb</td>\n",
       "      <td>{\"name\": \"Kenny Sebastian\", \"website\": \"https:...</td>\n",
       "      <td>1081986</td>\n",
       "      <td>588</td>\n",
       "      <td>1078</td>\n",
       "      <td>2023-03-28</td>\n",
       "      <td>2022-09-28 05:09:45.544014+00</td>\n",
       "      <td>2022-09-28 05:09:45.544014+00</td>\n",
       "      <td>2023-02-07 15:04:15+00</td>\n",
       "    </tr>\n",
       "    <tr>\n",
       "      <th>4</th>\n",
       "      <td>1173736368</td>\n",
       "      <td>danishsait</td>\n",
       "      <td>{\"name\": \"Danish sait\", \"website\": \"http://www...</td>\n",
       "      <td>1244607</td>\n",
       "      <td>697</td>\n",
       "      <td>1929</td>\n",
       "      <td>2022-09-27</td>\n",
       "      <td>2022-08-25 06:52:11.044415+00</td>\n",
       "      <td>2022-08-25 06:52:11.044415+00</td>\n",
       "      <td>2023-01-18 18:25:11+00</td>\n",
       "    </tr>\n",
       "  </tbody>\n",
       "</table>\n",
       "</div>"
      ],
      "text/plain": [
       "        ig_id     username                                           metadata  \\\n",
       "0  1181592320  randomvarun  {\"name\": \"Kumar Varun\", \"website\": \"https://yo...   \n",
       "1   290516871     ig_mamba  {\"name\": \"Salman Ahmad\", \"website\": \"\", \"biogr...   \n",
       "2  4483453272    wakefitco  {\"name\": \"Wakefit Solutions\", \"website\": \"http...   \n",
       "3   456967256   kennethseb  {\"name\": \"Kenny Sebastian\", \"website\": \"https:...   \n",
       "4  1173736368   danishsait  {\"name\": \"Danish sait\", \"website\": \"http://www...   \n",
       "\n",
       "   followers  follows  total_post_count     crawled  \\\n",
       "0     152812      587               340  2023-03-28   \n",
       "1     455664      287               300  2023-03-28   \n",
       "2      66918       31              1592  2022-12-01   \n",
       "3    1081986      588              1078  2023-03-28   \n",
       "4    1244607      697              1929  2022-09-27   \n",
       "\n",
       "                      created_at                     updated_at  \\\n",
       "0  2022-09-28 05:09:43.975459+00  2022-09-28 05:09:43.975459+00   \n",
       "1  2023-03-01 10:55:39.567239+00  2023-03-01 10:55:39.567239+00   \n",
       "2  2022-12-01 10:24:18.006169+00  2022-12-01 10:24:18.006169+00   \n",
       "3  2022-09-28 05:09:45.544014+00  2022-09-28 05:09:45.544014+00   \n",
       "4  2022-08-25 06:52:11.044415+00  2022-08-25 06:52:11.044415+00   \n",
       "\n",
       "              app_crawled  \n",
       "0  2023-02-07 14:53:13+00  \n",
       "1                     NaN  \n",
       "2  2023-01-18 18:09:23+00  \n",
       "3  2023-02-07 15:04:15+00  \n",
       "4  2023-01-18 18:25:11+00  "
      ]
     },
     "execution_count": 76,
     "metadata": {},
     "output_type": "execute_result"
    }
   ],
   "source": [
    "profile.head()"
   ]
  },
  {
   "cell_type": "code",
   "execution_count": 2,
   "id": "a974911f",
   "metadata": {},
   "outputs": [
    {
     "data": {
      "text/plain": [
       "Index(['ig_id', 'followers', 'follows', 'total_post_count'], dtype='object')"
      ]
     },
     "execution_count": 2,
     "metadata": {},
     "output_type": "execute_result"
    }
   ],
   "source": [
    "#columns with object data type\n",
    "Numerical=profile.dtypes[profile.dtypes==\"int64\"].index\n",
    "Numerical"
   ]
  },
  {
   "cell_type": "code",
   "execution_count": 3,
   "id": "b8319dbb",
   "metadata": {},
   "outputs": [
    {
     "data": {
      "text/plain": [
       "Index(['username', 'metadata', 'crawled', 'created_at', 'updated_at',\n",
       "       'app_crawled'],\n",
       "      dtype='object')"
      ]
     },
     "execution_count": 3,
     "metadata": {},
     "output_type": "execute_result"
    }
   ],
   "source": [
    "#columns with int data type\n",
    "categorical=profile.dtypes[profile.dtypes==\"object\"].index\n",
    "categorical"
   ]
  },
  {
   "cell_type": "code",
   "execution_count": 82,
   "id": "030c773e",
   "metadata": {},
   "outputs": [
    {
     "data": {
      "text/html": [
       "<div>\n",
       "<style scoped>\n",
       "    .dataframe tbody tr th:only-of-type {\n",
       "        vertical-align: middle;\n",
       "    }\n",
       "\n",
       "    .dataframe tbody tr th {\n",
       "        vertical-align: top;\n",
       "    }\n",
       "\n",
       "    .dataframe thead th {\n",
       "        text-align: right;\n",
       "    }\n",
       "</style>\n",
       "<table border=\"1\" class=\"dataframe\">\n",
       "  <thead>\n",
       "    <tr style=\"text-align: right;\">\n",
       "      <th></th>\n",
       "      <th>followers</th>\n",
       "      <th>follows</th>\n",
       "      <th>total_post_count</th>\n",
       "    </tr>\n",
       "  </thead>\n",
       "  <tbody>\n",
       "    <tr>\n",
       "      <th>count</th>\n",
       "      <td>5.370000e+02</td>\n",
       "      <td>537.000000</td>\n",
       "      <td>537.000000</td>\n",
       "    </tr>\n",
       "    <tr>\n",
       "      <th>mean</th>\n",
       "      <td>1.322691e+06</td>\n",
       "      <td>753.329609</td>\n",
       "      <td>1308.165736</td>\n",
       "    </tr>\n",
       "    <tr>\n",
       "      <th>std</th>\n",
       "      <td>5.074680e+06</td>\n",
       "      <td>942.460418</td>\n",
       "      <td>1315.261425</td>\n",
       "    </tr>\n",
       "    <tr>\n",
       "      <th>min</th>\n",
       "      <td>1.370000e+02</td>\n",
       "      <td>0.000000</td>\n",
       "      <td>0.000000</td>\n",
       "    </tr>\n",
       "    <tr>\n",
       "      <th>25%</th>\n",
       "      <td>7.688700e+04</td>\n",
       "      <td>152.000000</td>\n",
       "      <td>422.000000</td>\n",
       "    </tr>\n",
       "    <tr>\n",
       "      <th>50%</th>\n",
       "      <td>2.930930e+05</td>\n",
       "      <td>490.000000</td>\n",
       "      <td>925.000000</td>\n",
       "    </tr>\n",
       "    <tr>\n",
       "      <th>75%</th>\n",
       "      <td>9.495480e+05</td>\n",
       "      <td>995.000000</td>\n",
       "      <td>1715.000000</td>\n",
       "    </tr>\n",
       "    <tr>\n",
       "      <th>max</th>\n",
       "      <td>8.770702e+07</td>\n",
       "      <td>6364.000000</td>\n",
       "      <td>10324.000000</td>\n",
       "    </tr>\n",
       "  </tbody>\n",
       "</table>\n",
       "</div>"
      ],
      "text/plain": [
       "          followers      follows  total_post_count\n",
       "count  5.370000e+02   537.000000        537.000000\n",
       "mean   1.322691e+06   753.329609       1308.165736\n",
       "std    5.074680e+06   942.460418       1315.261425\n",
       "min    1.370000e+02     0.000000          0.000000\n",
       "25%    7.688700e+04   152.000000        422.000000\n",
       "50%    2.930930e+05   490.000000        925.000000\n",
       "75%    9.495480e+05   995.000000       1715.000000\n",
       "max    8.770702e+07  6364.000000      10324.000000"
      ]
     },
     "execution_count": 82,
     "metadata": {},
     "output_type": "execute_result"
    }
   ],
   "source": [
    "profile_copy=profile.copy()\n",
    "profile_copy.drop(\"ig_id\",axis=1,inplace=True)\n",
    "profile_copy.describe(include=[np.number])"
   ]
  },
  {
   "cell_type": "markdown",
   "id": "4f29adde",
   "metadata": {},
   "source": [
    "# Basic EDA for Instagram Profiles Data  "
   ]
  },
  {
   "cell_type": "code",
   "execution_count": 83,
   "id": "30946278",
   "metadata": {},
   "outputs": [
    {
     "data": {
      "text/plain": [
       "(63727, 13)"
      ]
     },
     "execution_count": 83,
     "metadata": {},
     "output_type": "execute_result"
    }
   ],
   "source": [
    "profile_post.shape"
   ]
  },
  {
   "cell_type": "code",
   "execution_count": 84,
   "id": "561c9dbb",
   "metadata": {},
   "outputs": [
    {
     "data": {
      "text/html": [
       "<div>\n",
       "<style scoped>\n",
       "    .dataframe tbody tr th:only-of-type {\n",
       "        vertical-align: middle;\n",
       "    }\n",
       "\n",
       "    .dataframe tbody tr th {\n",
       "        vertical-align: top;\n",
       "    }\n",
       "\n",
       "    .dataframe thead th {\n",
       "        text-align: right;\n",
       "    }\n",
       "</style>\n",
       "<table border=\"1\" class=\"dataframe\">\n",
       "  <thead>\n",
       "    <tr style=\"text-align: right;\">\n",
       "      <th></th>\n",
       "      <th>ig_id</th>\n",
       "      <th>post_id</th>\n",
       "      <th>permalink_url</th>\n",
       "      <th>metadata</th>\n",
       "      <th>comments</th>\n",
       "      <th>likes</th>\n",
       "      <th>crawled</th>\n",
       "      <th>created_at</th>\n",
       "      <th>updated_at</th>\n",
       "      <th>slug</th>\n",
       "      <th>views</th>\n",
       "      <th>plays</th>\n",
       "      <th>hashtags</th>\n",
       "    </tr>\n",
       "  </thead>\n",
       "  <tbody>\n",
       "    <tr>\n",
       "      <th>0</th>\n",
       "      <td>695431428</td>\n",
       "      <td>17951452121135417</td>\n",
       "      <td>https://www.instagram.com/reel/ClRAHEkJrIN/</td>\n",
       "      <td>{\"type\": \"VIDEO\", \"caption\": \"Problem of Every...</td>\n",
       "      <td>160</td>\n",
       "      <td>11359</td>\n",
       "      <td>2023-02-07</td>\n",
       "      <td>2022-11-22 14:59:24.479204+00</td>\n",
       "      <td>2022-11-22 14:59:24.479204+00</td>\n",
       "      <td>ClRAHEkJrIN</td>\n",
       "      <td>0</td>\n",
       "      <td>0</td>\n",
       "      <td>NaN</td>\n",
       "    </tr>\n",
       "    <tr>\n",
       "      <th>1</th>\n",
       "      <td>3114552540</td>\n",
       "      <td>17919790229430698</td>\n",
       "      <td>https://www.instagram.com/reel/Cgt-wnvBl7x/</td>\n",
       "      <td>{\"type\": \"VIDEO\", \"caption\": \"Is starbucks ove...</td>\n",
       "      <td>528</td>\n",
       "      <td>190695</td>\n",
       "      <td>2023-02-07</td>\n",
       "      <td>2023-01-13 11:29:13.752286+00</td>\n",
       "      <td>2023-01-13 11:29:13.752286+00</td>\n",
       "      <td>Cgt-wnvBl7x</td>\n",
       "      <td>2583796</td>\n",
       "      <td>4362765</td>\n",
       "      <td>{funny,funnyvideos,starbucks,relatablememes}</td>\n",
       "    </tr>\n",
       "    <tr>\n",
       "      <th>2</th>\n",
       "      <td>695431428</td>\n",
       "      <td>17906273285693178</td>\n",
       "      <td>https://www.instagram.com/reel/CmwIATFtAeq/</td>\n",
       "      <td>{\"type\": \"VIDEO\", \"caption\": \"Boys will be Con...</td>\n",
       "      <td>506</td>\n",
       "      <td>26173</td>\n",
       "      <td>2023-02-07</td>\n",
       "      <td>2022-12-29 17:29:34.072072+00</td>\n",
       "      <td>2022-12-29 17:29:34.072072+00</td>\n",
       "      <td>CmwIATFtAeq</td>\n",
       "      <td>0</td>\n",
       "      <td>0</td>\n",
       "      <td>NaN</td>\n",
       "    </tr>\n",
       "    <tr>\n",
       "      <th>3</th>\n",
       "      <td>210917789</td>\n",
       "      <td>18348198751004047</td>\n",
       "      <td>https://www.instagram.com/reel/CpcGEnfLeNa/</td>\n",
       "      <td>{\"type\": \"VIDEO\", \"caption\": \"All the best to ...</td>\n",
       "      <td>61</td>\n",
       "      <td>3848</td>\n",
       "      <td>2023-03-28</td>\n",
       "      <td>2023-03-06 09:56:58.910507+00</td>\n",
       "      <td>2023-03-06 09:56:58.910507+00</td>\n",
       "      <td>CpcGEnfLeNa</td>\n",
       "      <td>0</td>\n",
       "      <td>0</td>\n",
       "      <td>{loveyouram,undalaniundhi,telugusong}</td>\n",
       "    </tr>\n",
       "    <tr>\n",
       "      <th>4</th>\n",
       "      <td>52685013142</td>\n",
       "      <td>18313939324067862</td>\n",
       "      <td>https://www.instagram.com/p/Ck6FuFrp9TC/</td>\n",
       "      <td>{\"type\": \"CAROUSEL_ALBUM\", \"caption\": \"Should ...</td>\n",
       "      <td>604</td>\n",
       "      <td>164581</td>\n",
       "      <td>2023-03-28</td>\n",
       "      <td>2023-01-18 11:32:43.549401+00</td>\n",
       "      <td>2023-01-18 11:32:43.549401+00</td>\n",
       "      <td>Ck6FuFrp9TC</td>\n",
       "      <td>0</td>\n",
       "      <td>0</td>\n",
       "      <td>{aesthetic,nature,photography,softpicture,vars...</td>\n",
       "    </tr>\n",
       "  </tbody>\n",
       "</table>\n",
       "</div>"
      ],
      "text/plain": [
       "         ig_id            post_id  \\\n",
       "0    695431428  17951452121135417   \n",
       "1   3114552540  17919790229430698   \n",
       "2    695431428  17906273285693178   \n",
       "3    210917789  18348198751004047   \n",
       "4  52685013142  18313939324067862   \n",
       "\n",
       "                                 permalink_url  \\\n",
       "0  https://www.instagram.com/reel/ClRAHEkJrIN/   \n",
       "1  https://www.instagram.com/reel/Cgt-wnvBl7x/   \n",
       "2  https://www.instagram.com/reel/CmwIATFtAeq/   \n",
       "3  https://www.instagram.com/reel/CpcGEnfLeNa/   \n",
       "4     https://www.instagram.com/p/Ck6FuFrp9TC/   \n",
       "\n",
       "                                            metadata  comments   likes  \\\n",
       "0  {\"type\": \"VIDEO\", \"caption\": \"Problem of Every...       160   11359   \n",
       "1  {\"type\": \"VIDEO\", \"caption\": \"Is starbucks ove...       528  190695   \n",
       "2  {\"type\": \"VIDEO\", \"caption\": \"Boys will be Con...       506   26173   \n",
       "3  {\"type\": \"VIDEO\", \"caption\": \"All the best to ...        61    3848   \n",
       "4  {\"type\": \"CAROUSEL_ALBUM\", \"caption\": \"Should ...       604  164581   \n",
       "\n",
       "      crawled                     created_at                     updated_at  \\\n",
       "0  2023-02-07  2022-11-22 14:59:24.479204+00  2022-11-22 14:59:24.479204+00   \n",
       "1  2023-02-07  2023-01-13 11:29:13.752286+00  2023-01-13 11:29:13.752286+00   \n",
       "2  2023-02-07  2022-12-29 17:29:34.072072+00  2022-12-29 17:29:34.072072+00   \n",
       "3  2023-03-28  2023-03-06 09:56:58.910507+00  2023-03-06 09:56:58.910507+00   \n",
       "4  2023-03-28  2023-01-18 11:32:43.549401+00  2023-01-18 11:32:43.549401+00   \n",
       "\n",
       "          slug    views    plays  \\\n",
       "0  ClRAHEkJrIN        0        0   \n",
       "1  Cgt-wnvBl7x  2583796  4362765   \n",
       "2  CmwIATFtAeq        0        0   \n",
       "3  CpcGEnfLeNa        0        0   \n",
       "4  Ck6FuFrp9TC        0        0   \n",
       "\n",
       "                                            hashtags  \n",
       "0                                                NaN  \n",
       "1       {funny,funnyvideos,starbucks,relatablememes}  \n",
       "2                                                NaN  \n",
       "3              {loveyouram,undalaniundhi,telugusong}  \n",
       "4  {aesthetic,nature,photography,softpicture,vars...  "
      ]
     },
     "execution_count": 84,
     "metadata": {},
     "output_type": "execute_result"
    }
   ],
   "source": [
    "profile_post.head()"
   ]
  },
  {
   "cell_type": "code",
   "execution_count": 86,
   "id": "76261cf7",
   "metadata": {},
   "outputs": [
    {
     "data": {
      "text/plain": [
       "Index(['ig_id', 'post_id', 'comments', 'likes', 'views', 'plays'], dtype='object')"
      ]
     },
     "execution_count": 86,
     "metadata": {},
     "output_type": "execute_result"
    }
   ],
   "source": [
    "#columns with object data type\n",
    "Numerical=profile_post.dtypes[profile_post.dtypes==\"int64\"].index\n",
    "Numerical"
   ]
  },
  {
   "cell_type": "code",
   "execution_count": 88,
   "id": "8db73b2f",
   "metadata": {},
   "outputs": [
    {
     "data": {
      "text/plain": [
       "Index(['permalink_url', 'metadata', 'crawled', 'created_at', 'updated_at',\n",
       "       'slug', 'hashtags'],\n",
       "      dtype='object')"
      ]
     },
     "execution_count": 88,
     "metadata": {},
     "output_type": "execute_result"
    }
   ],
   "source": [
    "categorical=profile_post.dtypes[profile_post.dtypes==\"object\"].index\n",
    "categorical"
   ]
  },
  {
   "cell_type": "code",
   "execution_count": 90,
   "id": "d977f0e0",
   "metadata": {},
   "outputs": [
    {
     "data": {
      "text/html": [
       "<div>\n",
       "<style scoped>\n",
       "    .dataframe tbody tr th:only-of-type {\n",
       "        vertical-align: middle;\n",
       "    }\n",
       "\n",
       "    .dataframe tbody tr th {\n",
       "        vertical-align: top;\n",
       "    }\n",
       "\n",
       "    .dataframe thead th {\n",
       "        text-align: right;\n",
       "    }\n",
       "</style>\n",
       "<table border=\"1\" class=\"dataframe\">\n",
       "  <thead>\n",
       "    <tr style=\"text-align: right;\">\n",
       "      <th></th>\n",
       "      <th>ig_id</th>\n",
       "      <th>comments</th>\n",
       "      <th>likes</th>\n",
       "      <th>views</th>\n",
       "      <th>plays</th>\n",
       "    </tr>\n",
       "  </thead>\n",
       "  <tbody>\n",
       "    <tr>\n",
       "      <th>count</th>\n",
       "      <td>6.372700e+04</td>\n",
       "      <td>63727.000000</td>\n",
       "      <td>6.372700e+04</td>\n",
       "      <td>6.372700e+04</td>\n",
       "      <td>6.372700e+04</td>\n",
       "    </tr>\n",
       "    <tr>\n",
       "      <th>mean</th>\n",
       "      <td>6.599213e+09</td>\n",
       "      <td>369.885653</td>\n",
       "      <td>6.617033e+04</td>\n",
       "      <td>1.578315e+05</td>\n",
       "      <td>2.961977e+05</td>\n",
       "    </tr>\n",
       "    <tr>\n",
       "      <th>std</th>\n",
       "      <td>1.282426e+10</td>\n",
       "      <td>2398.704818</td>\n",
       "      <td>1.964479e+05</td>\n",
       "      <td>7.082733e+05</td>\n",
       "      <td>1.378904e+06</td>\n",
       "    </tr>\n",
       "    <tr>\n",
       "      <th>min</th>\n",
       "      <td>2.246390e+05</td>\n",
       "      <td>0.000000</td>\n",
       "      <td>0.000000e+00</td>\n",
       "      <td>0.000000e+00</td>\n",
       "      <td>0.000000e+00</td>\n",
       "    </tr>\n",
       "    <tr>\n",
       "      <th>25%</th>\n",
       "      <td>4.786870e+08</td>\n",
       "      <td>16.000000</td>\n",
       "      <td>1.229000e+03</td>\n",
       "      <td>0.000000e+00</td>\n",
       "      <td>0.000000e+00</td>\n",
       "    </tr>\n",
       "    <tr>\n",
       "      <th>50%</th>\n",
       "      <td>1.797721e+09</td>\n",
       "      <td>75.000000</td>\n",
       "      <td>1.260400e+04</td>\n",
       "      <td>0.000000e+00</td>\n",
       "      <td>0.000000e+00</td>\n",
       "    </tr>\n",
       "    <tr>\n",
       "      <th>75%</th>\n",
       "      <td>4.795288e+09</td>\n",
       "      <td>259.000000</td>\n",
       "      <td>5.506050e+04</td>\n",
       "      <td>1.993550e+04</td>\n",
       "      <td>4.200300e+04</td>\n",
       "    </tr>\n",
       "    <tr>\n",
       "      <th>max</th>\n",
       "      <td>5.492189e+10</td>\n",
       "      <td>518882.000000</td>\n",
       "      <td>7.120823e+06</td>\n",
       "      <td>2.752564e+07</td>\n",
       "      <td>1.107832e+08</td>\n",
       "    </tr>\n",
       "  </tbody>\n",
       "</table>\n",
       "</div>"
      ],
      "text/plain": [
       "              ig_id       comments         likes         views         plays\n",
       "count  6.372700e+04   63727.000000  6.372700e+04  6.372700e+04  6.372700e+04\n",
       "mean   6.599213e+09     369.885653  6.617033e+04  1.578315e+05  2.961977e+05\n",
       "std    1.282426e+10    2398.704818  1.964479e+05  7.082733e+05  1.378904e+06\n",
       "min    2.246390e+05       0.000000  0.000000e+00  0.000000e+00  0.000000e+00\n",
       "25%    4.786870e+08      16.000000  1.229000e+03  0.000000e+00  0.000000e+00\n",
       "50%    1.797721e+09      75.000000  1.260400e+04  0.000000e+00  0.000000e+00\n",
       "75%    4.795288e+09     259.000000  5.506050e+04  1.993550e+04  4.200300e+04\n",
       "max    5.492189e+10  518882.000000  7.120823e+06  2.752564e+07  1.107832e+08"
      ]
     },
     "execution_count": 90,
     "metadata": {},
     "output_type": "execute_result"
    }
   ],
   "source": [
    "profile_post_copy=profile_post.copy()\n",
    "profile_post_copy.drop(\"post_id\",axis=1,inplace=True)\n",
    "profile_post_copy.describe(include=[np.number])"
   ]
  },
  {
   "cell_type": "markdown",
   "id": "86d36b51",
   "metadata": {},
   "source": [
    "# Feature Engineering for Profile Data "
   ]
  },
  {
   "cell_type": "code",
   "execution_count": 2,
   "id": "20f83514",
   "metadata": {},
   "outputs": [],
   "source": [
    "profile_post['hashtags'].fillna(0,inplace=True)\n",
    "meta_list=list(profile_post['metadata'])\n",
    "time_list=[]\n",
    "caption_list=[]\n",
    "text_caption_list=[]\n",
    "hashtag_list=[]\n",
    "day_of_week_list=[]\n",
    "hour_list=[]\n",
    "post_type_list=[]\n",
    "Is_Reel_list=[]\n",
    "\n",
    "def timestamp(i,j):\n",
    "    \n",
    "    global time_list\n",
    "    global caption_list\n",
    "    global text_caption_list\n",
    "    global hashtag_list\n",
    "    global day_of_week_list\n",
    "    global hour_list\n",
    "    global post_type_lists\n",
    "    global Is_Reel_list\n",
    "    \n",
    "    res = json.loads(i)\n",
    "    time_value=res['timestamp']\n",
    "    post_type=res[\"type\"]\n",
    "    day_of_week=pd.Timestamp(time_value).dayofweek\n",
    "    hour_of_day=pd.Timestamp(time_value).hour\n",
    "    day_of_week_list.append(day_of_week)\n",
    "    hour_list.append(hour_of_day)\n",
    "    post_type_list.append(post_type)\n",
    "    \n",
    "    if res['hyp_type'] =='Reels':\n",
    "        Is_Reel='Reels'\n",
    "        Is_Reel_list.append(Is_Reel)\n",
    "    else:\n",
    "        Is_Reel_list.append('Non Reels')\n",
    "    \n",
    "    \n",
    "    if 'caption' in list(res.keys()):\n",
    "        caption_value=res['caption']\n",
    "        text=caption_value.split('\\n')[0]\n",
    "        text_caption_list.append(text)\n",
    "        caption_list.append(caption_value)\n",
    "        \n",
    "        time_list.append(time_value)\n",
    "    else:\n",
    "        time_list.append(time_value)\n",
    "        caption_list.append('No Caption')\n",
    "        text_caption_list.append('No Caption')\n",
    "        \n",
    "        \n",
    "    if j!=0:\n",
    "        no_of_hashtags=len(j.strip('{}').split(','))\n",
    "        hashtag_list.append(no_of_hashtags)\n",
    "    else:\n",
    "        no_of_hashtags=0\n",
    "        hashtag_list.append(no_of_hashtags)\n",
    "        \n",
    "    \n",
    "\n",
    "profile_post.apply(lambda x: timestamp(x['metadata'],x['hashtags']),axis=1)\n",
    "profile_post['timestamp']=time_list\n",
    "profile_post['Caption']=caption_list\n",
    "profile_post['Text_Caption']=text_caption_list\n",
    "profile_post['No_of_Hashtags']=hashtag_list\n",
    "profile_post['day_of_week']=day_of_week_list\n",
    "profile_post['Hour']=hour_list\n",
    "profile_post['post_type']=post_type_list\n",
    "profile_post['Is_Reel']=Is_Reel_list"
   ]
  },
  {
   "cell_type": "code",
   "execution_count": 3,
   "id": "8e0eba5c",
   "metadata": {},
   "outputs": [],
   "source": [
    "import numpy as np\n",
    "#New Variable: Time_of_day\n",
    "conditions = [\n",
    "    (profile_post['Hour'] >= 0)&(profile_post['Hour']<=4),\n",
    "    (profile_post['Hour'] > 4 )&( profile_post['Hour'] <= 12),\n",
    "    (profile_post['Hour'] > 13 )& (profile_post['Hour'] <= 16),\n",
    "    (profile_post['Hour'] > 16) & (profile_post['Hour'] <= 21),\n",
    "    (profile_post['Hour'] > 21) & (profile_post['Hour'] <= 24)]\n",
    "\n",
    "# create a list of the values we want to assign for each condition\n",
    "values = ['Early Morning', 'Morning', 'Afternoon', 'Evening','Night']\n",
    "\n",
    "# create a new column and use np.select to assign values to it using our lists as arguments\n",
    "profile_post[\"Time_of_day\"] = np.select(conditions, values)"
   ]
  },
  {
   "cell_type": "code",
   "execution_count": 4,
   "id": "01302082",
   "metadata": {},
   "outputs": [],
   "source": [
    "#creating and merging data \n",
    "final_creater_dataframe=profile_post.merge(profile,on='ig_id')\n",
    "final_creater_dataframe = final_creater_dataframe.sort_values(by=[\"ig_id\",\"timestamp\"])\n",
    "\n",
    "#creating a new feature for average comments \n",
    "final_creater_dataframe['Avg_comments']=final_creater_dataframe.groupby('username')['comments'].transform('mean')\n",
    "\n",
    "#creating a new feature for average likes\n",
    "final_creater_dataframe['Avg_likes']=final_creater_dataframe.groupby('username')['likes'].transform('mean')\n",
    "final_creater_dataframe['No of Videos']=final_creater_dataframe.groupby('username')['username'].transform('count')"
   ]
  },
  {
   "cell_type": "code",
   "execution_count": 5,
   "id": "e3dfeafe",
   "metadata": {},
   "outputs": [],
   "source": [
    "Video_dataframe=final_creater_dataframe[final_creater_dataframe[\"post_type\"]=='VIDEO']"
   ]
  },
  {
   "cell_type": "code",
   "execution_count": 6,
   "id": "1b6e2350",
   "metadata": {},
   "outputs": [
    {
     "name": "stderr",
     "output_type": "stream",
     "text": [
      "C:\\Users\\Ipshita\\AppData\\Local\\Temp/ipykernel_21860/2929304484.py:1: SettingWithCopyWarning: \n",
      "A value is trying to be set on a copy of a slice from a DataFrame.\n",
      "Try using .loc[row_indexer,col_indexer] = value instead\n",
      "\n",
      "See the caveats in the documentation: https://pandas.pydata.org/pandas-docs/stable/user_guide/indexing.html#returning-a-view-versus-a-copy\n",
      "  Video_dataframe['Avg_views']=Video_dataframe.groupby('username')['views'].transform('mean')\n"
     ]
    }
   ],
   "source": [
    "Video_dataframe['Avg_views']=Video_dataframe.groupby('username')['views'].transform('mean')"
   ]
  },
  {
   "cell_type": "markdown",
   "id": "512f4373",
   "metadata": {},
   "source": [
    "# Feature Engineering using NLP"
   ]
  },
  {
   "cell_type": "code",
   "execution_count": 7,
   "id": "41bd566f",
   "metadata": {
    "scrolled": true
   },
   "outputs": [
    {
     "name": "stderr",
     "output_type": "stream",
     "text": [
      "C:\\Users\\Ipshita\\AppData\\Local\\Temp/ipykernel_21860/1803987018.py:2: SettingWithCopyWarning: \n",
      "A value is trying to be set on a copy of a slice from a DataFrame.\n",
      "Try using .loc[row_indexer,col_indexer] = value instead\n",
      "\n",
      "See the caveats in the documentation: https://pandas.pydata.org/pandas-docs/stable/user_guide/indexing.html#returning-a-view-versus-a-copy\n",
      "  Video_dataframe['Text_Caption'] = Video_dataframe['Text_Caption'].apply(lambda x: ' '.join([word for word in x.split() if word not in (stop)]))\n",
      "C:\\Users\\Ipshita\\AppData\\Local\\Temp/ipykernel_21860/1803987018.py:5: FutureWarning: The default value of regex will change from True to False in a future version.\n",
      "  Video_dataframe['Text_Caption'] = Video_dataframe['Text_Caption'].str.replace('[{}]'.format(string.punctuation), '')\n",
      "C:\\Users\\Ipshita\\AppData\\Local\\Temp/ipykernel_21860/1803987018.py:5: SettingWithCopyWarning: \n",
      "A value is trying to be set on a copy of a slice from a DataFrame.\n",
      "Try using .loc[row_indexer,col_indexer] = value instead\n",
      "\n",
      "See the caveats in the documentation: https://pandas.pydata.org/pandas-docs/stable/user_guide/indexing.html#returning-a-view-versus-a-copy\n",
      "  Video_dataframe['Text_Caption'] = Video_dataframe['Text_Caption'].str.replace('[{}]'.format(string.punctuation), '')\n",
      "C:\\Users\\Ipshita\\AppData\\Local\\Temp/ipykernel_21860/1803987018.py:8: SettingWithCopyWarning: \n",
      "A value is trying to be set on a copy of a slice from a DataFrame.\n",
      "Try using .loc[row_indexer,col_indexer] = value instead\n",
      "\n",
      "See the caveats in the documentation: https://pandas.pydata.org/pandas-docs/stable/user_guide/indexing.html#returning-a-view-versus-a-copy\n",
      "  Video_dataframe['Text_Caption'] = Video_dataframe['Text_Caption'].str.lower()\n",
      "C:\\Users\\Ipshita\\AppData\\Local\\Temp/ipykernel_21860/1803987018.py:11: SettingWithCopyWarning: \n",
      "A value is trying to be set on a copy of a slice from a DataFrame.\n",
      "Try using .loc[row_indexer,col_indexer] = value instead\n",
      "\n",
      "See the caveats in the documentation: https://pandas.pydata.org/pandas-docs/stable/user_guide/indexing.html#returning-a-view-versus-a-copy\n",
      "  Video_dataframe['Text_Caption'] = Video_dataframe['Text_Caption'].apply(lambda x: ' '.join([lmtzr.lemmatize(word,'v')\n",
      "C:\\Users\\Ipshita\\AppData\\Local\\Temp/ipykernel_21860/1803987018.py:15: SettingWithCopyWarning: \n",
      "A value is trying to be set on a copy of a slice from a DataFrame.\n",
      "Try using .loc[row_indexer,col_indexer] = value instead\n",
      "\n",
      "See the caveats in the documentation: https://pandas.pydata.org/pandas-docs/stable/user_guide/indexing.html#returning-a-view-versus-a-copy\n",
      "  Video_dataframe['Text_Caption'] = Video_dataframe['Text_Caption'].astype(str)\n",
      "C:\\Users\\Ipshita\\AppData\\Local\\Temp/ipykernel_21860/1803987018.py:20: SettingWithCopyWarning: \n",
      "A value is trying to be set on a copy of a slice from a DataFrame.\n",
      "Try using .loc[row_indexer,col_indexer] = value instead\n",
      "\n",
      "See the caveats in the documentation: https://pandas.pydata.org/pandas-docs/stable/user_guide/indexing.html#returning-a-view-versus-a-copy\n",
      "  Video_dataframe['Post_Sentiments']=sentiment_category\n"
     ]
    }
   ],
   "source": [
    "\n",
    "#removing stop words\n",
    "Video_dataframe['Text_Caption'] = Video_dataframe['Text_Caption'].apply(lambda x: ' '.join([word for word in x.split() if word not in (stop)]))\n",
    "\n",
    "#removing puncuations\n",
    "Video_dataframe['Text_Caption'] = Video_dataframe['Text_Caption'].str.replace('[{}]'.format(string.punctuation), '')\n",
    "\n",
    "#lowercasing the words\n",
    "Video_dataframe['Text_Caption'] = Video_dataframe['Text_Caption'].str.lower()\n",
    "\n",
    "#lemmetizations \n",
    "Video_dataframe['Text_Caption'] = Video_dataframe['Text_Caption'].apply(lambda x: ' '.join([lmtzr.lemmatize(word,'v')                                                                                             \n",
    "                                                          for word in x.split() ]))\n",
    "\n",
    "#Setiment Analyis\n",
    "Video_dataframe['Text_Caption'] = Video_dataframe['Text_Caption'].astype(str)\n",
    "\n",
    "# compute sentiment scores (polarity) and labels\n",
    "sentiment_scores = [round(TextBlob(var).sentiment.polarity, 3) for var in Video_dataframe['Text_Caption']]\n",
    "sentiment_category = [\"positive\" if score >= 0  else \"negative\"  for score in sentiment_scores ]\n",
    "Video_dataframe['Post_Sentiments']=sentiment_category"
   ]
  },
  {
   "cell_type": "markdown",
   "id": "94bdd42d",
   "metadata": {},
   "source": [
    "# Image Features"
   ]
  },
  {
   "cell_type": "code",
   "execution_count": 8,
   "id": "c2d5d720",
   "metadata": {},
   "outputs": [],
   "source": [
    "Image_Feature=pd.read_csv('Image_feature.csv')\n",
    "final=pd.merge(Video_dataframe,Image_Feature,on='username')"
   ]
  },
  {
   "cell_type": "code",
   "execution_count": 17,
   "id": "1e4f4f8d",
   "metadata": {},
   "outputs": [
    {
     "data": {
      "text/plain": [
       "Index(['ig_id', 'comments', 'likes', 'views', 'plays', 'No_of_Hashtags',\n",
       "       'day_of_week', 'Hour', 'post_type', 'Is_Reel', 'Time_of_day',\n",
       "       'username', 'followers', 'follows', 'total_post_count', 'Avg_comments',\n",
       "       'Avg_likes', 'No of Videos', 'Avg_views', 'Post_Sentiments',\n",
       "       'Unnamed: 0', 'brightness', 'face_detection'],\n",
       "      dtype='object')"
      ]
     },
     "execution_count": 17,
     "metadata": {},
     "output_type": "execute_result"
    }
   ],
   "source": [
    "final.columns"
   ]
  },
  {
   "cell_type": "markdown",
   "id": "dd993184",
   "metadata": {},
   "source": [
    "# Label Encoding"
   ]
  },
  {
   "cell_type": "code",
   "execution_count": 9,
   "id": "ffe85189",
   "metadata": {},
   "outputs": [],
   "source": [
    "# Import label encoder\n",
    "from sklearn import preprocessing\n",
    "label_encoder = preprocessing.LabelEncoder()\n",
    "  \n",
    "# Encode labels in column 'species'.\n",
    "final['username']= label_encoder.fit_transform(final['username'])\n",
    "final['Post_Sentiments']= label_encoder.fit_transform(final['Post_Sentiments'])\n",
    "final['Time_of_day']=label_encoder.fit_transform(final['Time_of_day'])\n",
    "final['post_type']=label_encoder.fit_transform(final['post_type'])\n",
    "final['Is_Reel']=label_encoder.fit_transform(final['Is_Reel'])"
   ]
  },
  {
   "cell_type": "markdown",
   "id": "8a542c2c",
   "metadata": {},
   "source": [
    "# Dropping unecessary columns"
   ]
  },
  {
   "cell_type": "code",
   "execution_count": 10,
   "id": "ffc71d77",
   "metadata": {},
   "outputs": [],
   "source": [
    "final.drop(['crawled_y','app_crawled','metadata_x','metadata_y','slug','created_at_y','updated_at_y','crawled_y','hashtags','crawled_x','Caption','Text_Caption','permalink_url', 'created_at_x', 'updated_at_x', 'timestamp','post_id'],axis=1,inplace=True)"
   ]
  },
  {
   "cell_type": "code",
   "execution_count": 11,
   "id": "479117cc",
   "metadata": {},
   "outputs": [],
   "source": [
    "data_modelling_data=final[final['views']!=0]\n",
    "test_predict=final[final['views']==0]"
   ]
  },
  {
   "cell_type": "markdown",
   "id": "c752b36d",
   "metadata": {},
   "source": [
    "# Predict the views"
   ]
  },
  {
   "cell_type": "code",
   "execution_count": 18,
   "id": "a45fa8e4",
   "metadata": {},
   "outputs": [],
   "source": [
    "#-------Feature selection------------------\n",
    "X = data_modelling_data[['likes', 'comments','No_of_Hashtags','No of Videos',\n",
    "       'day_of_week', 'username', 'Post_Sentiments','Time_of_day','followers','brightness','face_detection']]\n",
    "Y=data_modelling_data['views']"
   ]
  },
  {
   "cell_type": "markdown",
   "id": "e78daca6",
   "metadata": {},
   "source": [
    "# Train_Test_split"
   ]
  },
  {
   "cell_type": "code",
   "execution_count": 19,
   "id": "67b05618",
   "metadata": {},
   "outputs": [],
   "source": [
    "x_train, x_test, y_train, y_test = train_test_split(X, Y, test_size = 0.3,random_state=0)"
   ]
  },
  {
   "cell_type": "markdown",
   "id": "55297d38",
   "metadata": {},
   "source": [
    "# Scaling"
   ]
  },
  {
   "cell_type": "code",
   "execution_count": 20,
   "id": "b675927c",
   "metadata": {},
   "outputs": [],
   "source": [
    "from sklearn.preprocessing import StandardScaler\n",
    "sc_X = StandardScaler()\n",
    "x_train = sc_X.fit_transform(x_train)\n",
    "x_test = sc_X.transform(x_test)\n",
    "\n",
    "sc_Y = StandardScaler()\n",
    "y_train=y_train.values.reshape(-1,1)\n",
    "sc_Y.fit_transform(y_train)\n",
    "y_train=sc_Y.transform(y_train)\n",
    "y_test=y_test.values.reshape(-1,1)\n",
    "y_test=sc_Y.transform(y_test)"
   ]
  },
  {
   "cell_type": "code",
   "execution_count": 21,
   "id": "c3bfc127",
   "metadata": {},
   "outputs": [
    {
     "name": "stdout",
     "output_type": "stream",
     "text": [
      "[15:20:32] WARNING: C:/buildkite-agent/builds/buildkite-windows-cpu-autoscaling-group-i-0fc7796c793e6356f-1/xgboost/xgboost-ci-windows/src/learner.cc:767: \n",
      "Parameters: { \"num_boost_round\" } are not used.\n",
      "\n"
     ]
    }
   ],
   "source": [
    "xgb_r = xg.XGBRegressor(objective ='reg:squarederror',learning_rate=0.02,subsample=0.7, max_depth=3, n_estimators = 100, num_boost_round=100,seed = 200)\n",
    "  \n",
    "\n",
    "# Fitting the model\n",
    "xgb_r.fit(x_train, y_train)\n",
    "  \n",
    "# Predict the model\n",
    "pred = xgb_r.predict(x_test)\n"
   ]
  },
  {
   "cell_type": "code",
   "execution_count": 22,
   "id": "a09e1a61",
   "metadata": {},
   "outputs": [
    {
     "name": "stdout",
     "output_type": "stream",
     "text": [
      "Train accuracy 0.7851632684329007\n",
      "r-squared: 0.6969634449146126\n",
      "adjusted r square :0.6967156267519526\n",
      "VIF: 3.2999319165248147\n",
      "---------------------------------------\n",
      "Mean absolute error: 0.23445914264545084\n",
      "Mean squared error : 0.3494253057015439\n",
      "Root mean squared error: 0.591122073434535\n"
     ]
    }
   ],
   "source": [
    "import numpy as np\n",
    "def linear_metrics():\n",
    "    r2_train= xgb_r.score(x_train, y_train)\n",
    "    print('Train accuracy',r2_train)\n",
    "    r2  = xgb_r.score(x_test, y_test)\n",
    "    MAE = metrics.mean_absolute_error(y_test,pred)\n",
    "    MSE = metrics.mean_squared_error(y_test,pred) \n",
    "    RMSE= (np.sqrt(metrics.mean_squared_error(y_test,pred)))\n",
    "    adjusted_r_squared = 1 - (1-r2)*(len(y_train)-1)/(len(y_train)-x_train.shape[1]-1)\n",
    "    VIF= 1/(1-r2)\n",
    "    \n",
    "    print('r-squared: {}'.format(r2))\n",
    "    print('adjusted r square :{}'.format(adjusted_r_squared))\n",
    "    print('VIF: {}'.format(VIF))\n",
    "    \n",
    "    print('---------------------------------------')\n",
    "    print('Mean absolute error: {}'.format(MAE))\n",
    "    print('Mean squared error : {}'.format(MSE))\n",
    "    print('Root mean squared error: {}'.format(RMSE))\n",
    "    \n",
    "linear_metrics()"
   ]
  },
  {
   "cell_type": "code",
   "execution_count": 254,
   "id": "e87bf20d",
   "metadata": {},
   "outputs": [],
   "source": [
    "data_modelling_data=final[final['plays']!=0]\n",
    "test_predict=final[final['plays']==0]"
   ]
  },
  {
   "cell_type": "code",
   "execution_count": 255,
   "id": "b152dfb2",
   "metadata": {},
   "outputs": [],
   "source": [
    "#-------Feature selection------------------\n",
    "X = data_modelling_data[['Avg_likes', 'No_of_Hashtags','No of Videos',\n",
    "       'day_of_week', 'username', 'Post_Sentiments','Time_of_day','followers','brightness','face_detection']]\n",
    "Y=data_modelling_data['plays']"
   ]
  },
  {
   "cell_type": "code",
   "execution_count": 256,
   "id": "79f0ff22",
   "metadata": {},
   "outputs": [],
   "source": [
    "x_train, x_test, y_train, y_test = train_test_split(X, Y, test_size = 0.3,random_state=140)"
   ]
  },
  {
   "cell_type": "code",
   "execution_count": 257,
   "id": "10490df4",
   "metadata": {},
   "outputs": [],
   "source": [
    "from sklearn.preprocessing import StandardScaler\n",
    "sc_X = StandardScaler()\n",
    "x_train = sc_X.fit_transform(x_train)\n",
    "x_test = sc_X.transform(x_test)\n",
    "\n",
    "sc_Y = StandardScaler()\n",
    "y_train=y_train.values.reshape(-1,1)\n",
    "sc_Y.fit_transform(y_train)\n",
    "y_train=sc_Y.transform(y_train)\n",
    "y_test=y_test.values.reshape(-1,1)\n",
    "y_test=sc_Y.transform(y_test)"
   ]
  },
  {
   "cell_type": "code",
   "execution_count": 258,
   "id": "f390b699",
   "metadata": {},
   "outputs": [
    {
     "name": "stdout",
     "output_type": "stream",
     "text": [
      "[00:24:37] WARNING: C:/buildkite-agent/builds/buildkite-windows-cpu-autoscaling-group-i-0fc7796c793e6356f-1/xgboost/xgboost-ci-windows/src/learner.cc:767: \n",
      "Parameters: { \"num_boost_round\" } are not used.\n",
      "\n"
     ]
    }
   ],
   "source": [
    "xgb_r = xg.XGBRegressor(objective ='reg:squarederror',learning_rate=0.02,subsample=1, max_depth=5, n_estimators = 200, num_boost_round=10,seed = 200)\n",
    "  \n",
    "\n",
    "# Fitting the model\n",
    "xgb_r.fit(x_train, y_train)\n",
    "  \n",
    "# Predict the model\n",
    "pred = xgb_r.predict(x_test)\n"
   ]
  },
  {
   "cell_type": "code",
   "execution_count": 259,
   "id": "0938cb9e",
   "metadata": {},
   "outputs": [
    {
     "name": "stdout",
     "output_type": "stream",
     "text": [
      "Train accuracy 0.2851532488434573\n",
      "r-squared: 0.23463046872001903\n",
      "adjusted r square :0.2340542230256356\n",
      "VIF: 1.3065584128069876\n",
      "---------------------------------------\n",
      "Mean absolute error: 0.30865928128236253\n",
      "Mean squared error : 0.5709985361570181\n",
      "Root mean squared error: 0.7556444508874648\n"
     ]
    }
   ],
   "source": [
    "import numpy as np\n",
    "def linear_metrics():\n",
    "    r2_train= xgb_r.score(x_train, y_train)\n",
    "    print('Train accuracy',r2_train)\n",
    "    r2  = xgb_r.score(x_test, y_test)\n",
    "    MAE = metrics.mean_absolute_error(y_test,pred)\n",
    "    MSE = metrics.mean_squared_error(y_test,pred) \n",
    "    RMSE= (np.sqrt(metrics.mean_squared_error(y_test,pred)))\n",
    "    adjusted_r_squared = 1 - (1-r2)*(len(y_train)-1)/(len(y_train)-x_train.shape[1]-1)\n",
    "    VIF= 1/(1-r2)\n",
    "    \n",
    "    print('r-squared: {}'.format(r2))\n",
    "    print('adjusted r square :{}'.format(adjusted_r_squared))\n",
    "    print('VIF: {}'.format(VIF))\n",
    "    \n",
    "    print('---------------------------------------')\n",
    "    print('Mean absolute error: {}'.format(MAE))\n",
    "    print('Mean squared error : {}'.format(MSE))\n",
    "    print('Root mean squared error: {}'.format(RMSE))\n",
    "    \n",
    "linear_metrics()"
   ]
  },
  {
   "cell_type": "code",
   "execution_count": 262,
   "id": "b7a02bdb",
   "metadata": {},
   "outputs": [],
   "source": [
    "#--------test data------------------------------\n",
    "train__plays_data_set=data_modelling_data[['Avg_likes', 'No_of_Hashtags','No of Videos',\n",
    "       'day_of_week', 'username', 'Post_Sentiments','Time_of_day','followers','brightness','face_detection','plays']]\n",
    "train__plays_data_set.to_csv('train__plays_data_set.csv')"
   ]
  },
  {
   "cell_type": "code",
   "execution_count": 261,
   "id": "f84f9cf2",
   "metadata": {},
   "outputs": [
    {
     "name": "stdout",
     "output_type": "stream",
     "text": [
      "0.23463046872001903\n"
     ]
    }
   ],
   "source": [
    "import pickle\n",
    "filename = 'plays_prediction_model.sav'\n",
    "pickle.dump(xgb_r, open(filename, 'wb'))\n",
    " \n",
    "# some time later...\n",
    " \n",
    "# load the model from disk\n",
    "loaded_model = pickle.load(open(filename, 'rb'))\n",
    "result = loaded_model.score(x_test, y_test)\n",
    "print(result)"
   ]
  },
  {
   "cell_type": "code",
   "execution_count": null,
   "id": "3628eac6",
   "metadata": {},
   "outputs": [],
   "source": []
  }
 ],
 "metadata": {
  "kernelspec": {
   "display_name": "Python 3 (ipykernel)",
   "language": "python",
   "name": "python3"
  },
  "language_info": {
   "codemirror_mode": {
    "name": "ipython",
    "version": 3
   },
   "file_extension": ".py",
   "mimetype": "text/x-python",
   "name": "python",
   "nbconvert_exporter": "python",
   "pygments_lexer": "ipython3",
   "version": "3.8.10"
  }
 },
 "nbformat": 4,
 "nbformat_minor": 5
}
