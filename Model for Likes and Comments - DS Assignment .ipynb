{
 "cells": [
  {
   "cell_type": "code",
   "execution_count": 1,
   "id": "546cd9a4",
   "metadata": {},
   "outputs": [],
   "source": [
    "import pandas as pd\n",
    "import re\n",
    "import datetime\n",
    "import json\n",
    "from datetime import datetime\n",
    "import time\n",
    "import seaborn as sb\n",
    "import matplotlib.pyplot as plt\n",
    "\n",
    "#importorting libraries for NLP\n",
    "from nltk.corpus import stopwords\n",
    "stop = stopwords.words('english')\n",
    "from textblob import TextBlob\n",
    "import string\n",
    "import nltk\n",
    "from nltk.stem.wordnet import WordNetLemmatizer\n",
    "lmtzr = WordNetLemmatizer()\n",
    "\n",
    "\n",
    "#importing librraies for data modelling \n",
    "from sklearn.model_selection import train_test_split\n",
    "from sklearn.linear_model import LinearRegression\n",
    "from sklearn import metrics \n",
    "from mlxtend.evaluate import bias_variance_decomp\n",
    "import xgboost as xg\n",
    "\n",
    "\n",
    "\n",
    "profile=pd.read_csv('instagram_profiles.csv')\n",
    "profile_post=pd.read_csv('instagram_posts.csv')"
   ]
  },
  {
   "cell_type": "markdown",
   "id": "044dbe00",
   "metadata": {},
   "source": [
    "# Basic EDA for Instagram Profiles Data  "
   ]
  },
  {
   "cell_type": "code",
   "execution_count": 74,
   "id": "d101342b",
   "metadata": {},
   "outputs": [
    {
     "data": {
      "text/plain": [
       "(537, 10)"
      ]
     },
     "execution_count": 74,
     "metadata": {},
     "output_type": "execute_result"
    }
   ],
   "source": [
    "profile.shape"
   ]
  },
  {
   "cell_type": "code",
   "execution_count": 418,
   "id": "57b4c9bb",
   "metadata": {},
   "outputs": [
    {
     "data": {
      "text/plain": [
       "Index(['ig_id', 'username', 'metadata', 'followers', 'follows',\n",
       "       'total_post_count', 'crawled', 'created_at', 'updated_at',\n",
       "       'app_crawled'],\n",
       "      dtype='object')"
      ]
     },
     "execution_count": 418,
     "metadata": {},
     "output_type": "execute_result"
    }
   ],
   "source": [
    "profile.columns"
   ]
  },
  {
   "cell_type": "code",
   "execution_count": 76,
   "id": "f867fc2b",
   "metadata": {},
   "outputs": [
    {
     "data": {
      "text/html": [
       "<div>\n",
       "<style scoped>\n",
       "    .dataframe tbody tr th:only-of-type {\n",
       "        vertical-align: middle;\n",
       "    }\n",
       "\n",
       "    .dataframe tbody tr th {\n",
       "        vertical-align: top;\n",
       "    }\n",
       "\n",
       "    .dataframe thead th {\n",
       "        text-align: right;\n",
       "    }\n",
       "</style>\n",
       "<table border=\"1\" class=\"dataframe\">\n",
       "  <thead>\n",
       "    <tr style=\"text-align: right;\">\n",
       "      <th></th>\n",
       "      <th>ig_id</th>\n",
       "      <th>username</th>\n",
       "      <th>metadata</th>\n",
       "      <th>followers</th>\n",
       "      <th>follows</th>\n",
       "      <th>total_post_count</th>\n",
       "      <th>crawled</th>\n",
       "      <th>created_at</th>\n",
       "      <th>updated_at</th>\n",
       "      <th>app_crawled</th>\n",
       "    </tr>\n",
       "  </thead>\n",
       "  <tbody>\n",
       "    <tr>\n",
       "      <th>0</th>\n",
       "      <td>1181592320</td>\n",
       "      <td>randomvarun</td>\n",
       "      <td>{\"name\": \"Kumar Varun\", \"website\": \"https://yo...</td>\n",
       "      <td>152812</td>\n",
       "      <td>587</td>\n",
       "      <td>340</td>\n",
       "      <td>2023-03-28</td>\n",
       "      <td>2022-09-28 05:09:43.975459+00</td>\n",
       "      <td>2022-09-28 05:09:43.975459+00</td>\n",
       "      <td>2023-02-07 14:53:13+00</td>\n",
       "    </tr>\n",
       "    <tr>\n",
       "      <th>1</th>\n",
       "      <td>290516871</td>\n",
       "      <td>ig_mamba</td>\n",
       "      <td>{\"name\": \"Salman Ahmad\", \"website\": \"\", \"biogr...</td>\n",
       "      <td>455664</td>\n",
       "      <td>287</td>\n",
       "      <td>300</td>\n",
       "      <td>2023-03-28</td>\n",
       "      <td>2023-03-01 10:55:39.567239+00</td>\n",
       "      <td>2023-03-01 10:55:39.567239+00</td>\n",
       "      <td>NaN</td>\n",
       "    </tr>\n",
       "    <tr>\n",
       "      <th>2</th>\n",
       "      <td>4483453272</td>\n",
       "      <td>wakefitco</td>\n",
       "      <td>{\"name\": \"Wakefit Solutions\", \"website\": \"http...</td>\n",
       "      <td>66918</td>\n",
       "      <td>31</td>\n",
       "      <td>1592</td>\n",
       "      <td>2022-12-01</td>\n",
       "      <td>2022-12-01 10:24:18.006169+00</td>\n",
       "      <td>2022-12-01 10:24:18.006169+00</td>\n",
       "      <td>2023-01-18 18:09:23+00</td>\n",
       "    </tr>\n",
       "    <tr>\n",
       "      <th>3</th>\n",
       "      <td>456967256</td>\n",
       "      <td>kennethseb</td>\n",
       "      <td>{\"name\": \"Kenny Sebastian\", \"website\": \"https:...</td>\n",
       "      <td>1081986</td>\n",
       "      <td>588</td>\n",
       "      <td>1078</td>\n",
       "      <td>2023-03-28</td>\n",
       "      <td>2022-09-28 05:09:45.544014+00</td>\n",
       "      <td>2022-09-28 05:09:45.544014+00</td>\n",
       "      <td>2023-02-07 15:04:15+00</td>\n",
       "    </tr>\n",
       "    <tr>\n",
       "      <th>4</th>\n",
       "      <td>1173736368</td>\n",
       "      <td>danishsait</td>\n",
       "      <td>{\"name\": \"Danish sait\", \"website\": \"http://www...</td>\n",
       "      <td>1244607</td>\n",
       "      <td>697</td>\n",
       "      <td>1929</td>\n",
       "      <td>2022-09-27</td>\n",
       "      <td>2022-08-25 06:52:11.044415+00</td>\n",
       "      <td>2022-08-25 06:52:11.044415+00</td>\n",
       "      <td>2023-01-18 18:25:11+00</td>\n",
       "    </tr>\n",
       "  </tbody>\n",
       "</table>\n",
       "</div>"
      ],
      "text/plain": [
       "        ig_id     username                                           metadata  \\\n",
       "0  1181592320  randomvarun  {\"name\": \"Kumar Varun\", \"website\": \"https://yo...   \n",
       "1   290516871     ig_mamba  {\"name\": \"Salman Ahmad\", \"website\": \"\", \"biogr...   \n",
       "2  4483453272    wakefitco  {\"name\": \"Wakefit Solutions\", \"website\": \"http...   \n",
       "3   456967256   kennethseb  {\"name\": \"Kenny Sebastian\", \"website\": \"https:...   \n",
       "4  1173736368   danishsait  {\"name\": \"Danish sait\", \"website\": \"http://www...   \n",
       "\n",
       "   followers  follows  total_post_count     crawled  \\\n",
       "0     152812      587               340  2023-03-28   \n",
       "1     455664      287               300  2023-03-28   \n",
       "2      66918       31              1592  2022-12-01   \n",
       "3    1081986      588              1078  2023-03-28   \n",
       "4    1244607      697              1929  2022-09-27   \n",
       "\n",
       "                      created_at                     updated_at  \\\n",
       "0  2022-09-28 05:09:43.975459+00  2022-09-28 05:09:43.975459+00   \n",
       "1  2023-03-01 10:55:39.567239+00  2023-03-01 10:55:39.567239+00   \n",
       "2  2022-12-01 10:24:18.006169+00  2022-12-01 10:24:18.006169+00   \n",
       "3  2022-09-28 05:09:45.544014+00  2022-09-28 05:09:45.544014+00   \n",
       "4  2022-08-25 06:52:11.044415+00  2022-08-25 06:52:11.044415+00   \n",
       "\n",
       "              app_crawled  \n",
       "0  2023-02-07 14:53:13+00  \n",
       "1                     NaN  \n",
       "2  2023-01-18 18:09:23+00  \n",
       "3  2023-02-07 15:04:15+00  \n",
       "4  2023-01-18 18:25:11+00  "
      ]
     },
     "execution_count": 76,
     "metadata": {},
     "output_type": "execute_result"
    }
   ],
   "source": [
    "profile.head()"
   ]
  },
  {
   "cell_type": "code",
   "execution_count": 2,
   "id": "a974911f",
   "metadata": {},
   "outputs": [
    {
     "data": {
      "text/plain": [
       "Index(['ig_id', 'followers', 'follows', 'total_post_count'], dtype='object')"
      ]
     },
     "execution_count": 2,
     "metadata": {},
     "output_type": "execute_result"
    }
   ],
   "source": [
    "#columns with object data type\n",
    "Numerical=profile.dtypes[profile.dtypes==\"int64\"].index\n",
    "Numerical"
   ]
  },
  {
   "cell_type": "code",
   "execution_count": 3,
   "id": "b8319dbb",
   "metadata": {},
   "outputs": [
    {
     "data": {
      "text/plain": [
       "Index(['username', 'metadata', 'crawled', 'created_at', 'updated_at',\n",
       "       'app_crawled'],\n",
       "      dtype='object')"
      ]
     },
     "execution_count": 3,
     "metadata": {},
     "output_type": "execute_result"
    }
   ],
   "source": [
    "#columns with int data type\n",
    "categorical=profile.dtypes[profile.dtypes==\"object\"].index\n",
    "categorical"
   ]
  },
  {
   "cell_type": "code",
   "execution_count": 82,
   "id": "030c773e",
   "metadata": {},
   "outputs": [
    {
     "data": {
      "text/html": [
       "<div>\n",
       "<style scoped>\n",
       "    .dataframe tbody tr th:only-of-type {\n",
       "        vertical-align: middle;\n",
       "    }\n",
       "\n",
       "    .dataframe tbody tr th {\n",
       "        vertical-align: top;\n",
       "    }\n",
       "\n",
       "    .dataframe thead th {\n",
       "        text-align: right;\n",
       "    }\n",
       "</style>\n",
       "<table border=\"1\" class=\"dataframe\">\n",
       "  <thead>\n",
       "    <tr style=\"text-align: right;\">\n",
       "      <th></th>\n",
       "      <th>followers</th>\n",
       "      <th>follows</th>\n",
       "      <th>total_post_count</th>\n",
       "    </tr>\n",
       "  </thead>\n",
       "  <tbody>\n",
       "    <tr>\n",
       "      <th>count</th>\n",
       "      <td>5.370000e+02</td>\n",
       "      <td>537.000000</td>\n",
       "      <td>537.000000</td>\n",
       "    </tr>\n",
       "    <tr>\n",
       "      <th>mean</th>\n",
       "      <td>1.322691e+06</td>\n",
       "      <td>753.329609</td>\n",
       "      <td>1308.165736</td>\n",
       "    </tr>\n",
       "    <tr>\n",
       "      <th>std</th>\n",
       "      <td>5.074680e+06</td>\n",
       "      <td>942.460418</td>\n",
       "      <td>1315.261425</td>\n",
       "    </tr>\n",
       "    <tr>\n",
       "      <th>min</th>\n",
       "      <td>1.370000e+02</td>\n",
       "      <td>0.000000</td>\n",
       "      <td>0.000000</td>\n",
       "    </tr>\n",
       "    <tr>\n",
       "      <th>25%</th>\n",
       "      <td>7.688700e+04</td>\n",
       "      <td>152.000000</td>\n",
       "      <td>422.000000</td>\n",
       "    </tr>\n",
       "    <tr>\n",
       "      <th>50%</th>\n",
       "      <td>2.930930e+05</td>\n",
       "      <td>490.000000</td>\n",
       "      <td>925.000000</td>\n",
       "    </tr>\n",
       "    <tr>\n",
       "      <th>75%</th>\n",
       "      <td>9.495480e+05</td>\n",
       "      <td>995.000000</td>\n",
       "      <td>1715.000000</td>\n",
       "    </tr>\n",
       "    <tr>\n",
       "      <th>max</th>\n",
       "      <td>8.770702e+07</td>\n",
       "      <td>6364.000000</td>\n",
       "      <td>10324.000000</td>\n",
       "    </tr>\n",
       "  </tbody>\n",
       "</table>\n",
       "</div>"
      ],
      "text/plain": [
       "          followers      follows  total_post_count\n",
       "count  5.370000e+02   537.000000        537.000000\n",
       "mean   1.322691e+06   753.329609       1308.165736\n",
       "std    5.074680e+06   942.460418       1315.261425\n",
       "min    1.370000e+02     0.000000          0.000000\n",
       "25%    7.688700e+04   152.000000        422.000000\n",
       "50%    2.930930e+05   490.000000        925.000000\n",
       "75%    9.495480e+05   995.000000       1715.000000\n",
       "max    8.770702e+07  6364.000000      10324.000000"
      ]
     },
     "execution_count": 82,
     "metadata": {},
     "output_type": "execute_result"
    }
   ],
   "source": [
    "profile_copy=profile.copy()\n",
    "profile_copy.drop(\"ig_id\",axis=1,inplace=True)\n",
    "profile_copy.describe(include=[np.number])"
   ]
  },
  {
   "cell_type": "markdown",
   "id": "4f29adde",
   "metadata": {},
   "source": [
    "# Basic EDA for Instagram Profiles Post Data  "
   ]
  },
  {
   "cell_type": "code",
   "execution_count": 83,
   "id": "30946278",
   "metadata": {},
   "outputs": [
    {
     "data": {
      "text/plain": [
       "(63727, 13)"
      ]
     },
     "execution_count": 83,
     "metadata": {},
     "output_type": "execute_result"
    }
   ],
   "source": [
    "profile_post.shape"
   ]
  },
  {
   "cell_type": "code",
   "execution_count": 420,
   "id": "f11b3be7",
   "metadata": {},
   "outputs": [
    {
     "data": {
      "text/plain": [
       "Index(['ig_id', 'post_id', 'permalink_url', 'metadata', 'comments', 'likes',\n",
       "       'crawled', 'created_at', 'updated_at', 'slug', 'views', 'plays',\n",
       "       'hashtags', 'timestamp', 'Caption', 'Text_Caption', 'No_of_Hashtags',\n",
       "       'day_of_week', 'Hour', 'post_type', 'Time_of_day',\n",
       "       'asking_question_in_caption'],\n",
       "      dtype='object')"
      ]
     },
     "execution_count": 420,
     "metadata": {},
     "output_type": "execute_result"
    }
   ],
   "source": [
    "profile_post.columns"
   ]
  },
  {
   "cell_type": "code",
   "execution_count": 84,
   "id": "561c9dbb",
   "metadata": {},
   "outputs": [
    {
     "data": {
      "text/html": [
       "<div>\n",
       "<style scoped>\n",
       "    .dataframe tbody tr th:only-of-type {\n",
       "        vertical-align: middle;\n",
       "    }\n",
       "\n",
       "    .dataframe tbody tr th {\n",
       "        vertical-align: top;\n",
       "    }\n",
       "\n",
       "    .dataframe thead th {\n",
       "        text-align: right;\n",
       "    }\n",
       "</style>\n",
       "<table border=\"1\" class=\"dataframe\">\n",
       "  <thead>\n",
       "    <tr style=\"text-align: right;\">\n",
       "      <th></th>\n",
       "      <th>ig_id</th>\n",
       "      <th>post_id</th>\n",
       "      <th>permalink_url</th>\n",
       "      <th>metadata</th>\n",
       "      <th>comments</th>\n",
       "      <th>likes</th>\n",
       "      <th>crawled</th>\n",
       "      <th>created_at</th>\n",
       "      <th>updated_at</th>\n",
       "      <th>slug</th>\n",
       "      <th>views</th>\n",
       "      <th>plays</th>\n",
       "      <th>hashtags</th>\n",
       "    </tr>\n",
       "  </thead>\n",
       "  <tbody>\n",
       "    <tr>\n",
       "      <th>0</th>\n",
       "      <td>695431428</td>\n",
       "      <td>17951452121135417</td>\n",
       "      <td>https://www.instagram.com/reel/ClRAHEkJrIN/</td>\n",
       "      <td>{\"type\": \"VIDEO\", \"caption\": \"Problem of Every...</td>\n",
       "      <td>160</td>\n",
       "      <td>11359</td>\n",
       "      <td>2023-02-07</td>\n",
       "      <td>2022-11-22 14:59:24.479204+00</td>\n",
       "      <td>2022-11-22 14:59:24.479204+00</td>\n",
       "      <td>ClRAHEkJrIN</td>\n",
       "      <td>0</td>\n",
       "      <td>0</td>\n",
       "      <td>NaN</td>\n",
       "    </tr>\n",
       "    <tr>\n",
       "      <th>1</th>\n",
       "      <td>3114552540</td>\n",
       "      <td>17919790229430698</td>\n",
       "      <td>https://www.instagram.com/reel/Cgt-wnvBl7x/</td>\n",
       "      <td>{\"type\": \"VIDEO\", \"caption\": \"Is starbucks ove...</td>\n",
       "      <td>528</td>\n",
       "      <td>190695</td>\n",
       "      <td>2023-02-07</td>\n",
       "      <td>2023-01-13 11:29:13.752286+00</td>\n",
       "      <td>2023-01-13 11:29:13.752286+00</td>\n",
       "      <td>Cgt-wnvBl7x</td>\n",
       "      <td>2583796</td>\n",
       "      <td>4362765</td>\n",
       "      <td>{funny,funnyvideos,starbucks,relatablememes}</td>\n",
       "    </tr>\n",
       "    <tr>\n",
       "      <th>2</th>\n",
       "      <td>695431428</td>\n",
       "      <td>17906273285693178</td>\n",
       "      <td>https://www.instagram.com/reel/CmwIATFtAeq/</td>\n",
       "      <td>{\"type\": \"VIDEO\", \"caption\": \"Boys will be Con...</td>\n",
       "      <td>506</td>\n",
       "      <td>26173</td>\n",
       "      <td>2023-02-07</td>\n",
       "      <td>2022-12-29 17:29:34.072072+00</td>\n",
       "      <td>2022-12-29 17:29:34.072072+00</td>\n",
       "      <td>CmwIATFtAeq</td>\n",
       "      <td>0</td>\n",
       "      <td>0</td>\n",
       "      <td>NaN</td>\n",
       "    </tr>\n",
       "    <tr>\n",
       "      <th>3</th>\n",
       "      <td>210917789</td>\n",
       "      <td>18348198751004047</td>\n",
       "      <td>https://www.instagram.com/reel/CpcGEnfLeNa/</td>\n",
       "      <td>{\"type\": \"VIDEO\", \"caption\": \"All the best to ...</td>\n",
       "      <td>61</td>\n",
       "      <td>3848</td>\n",
       "      <td>2023-03-28</td>\n",
       "      <td>2023-03-06 09:56:58.910507+00</td>\n",
       "      <td>2023-03-06 09:56:58.910507+00</td>\n",
       "      <td>CpcGEnfLeNa</td>\n",
       "      <td>0</td>\n",
       "      <td>0</td>\n",
       "      <td>{loveyouram,undalaniundhi,telugusong}</td>\n",
       "    </tr>\n",
       "    <tr>\n",
       "      <th>4</th>\n",
       "      <td>52685013142</td>\n",
       "      <td>18313939324067862</td>\n",
       "      <td>https://www.instagram.com/p/Ck6FuFrp9TC/</td>\n",
       "      <td>{\"type\": \"CAROUSEL_ALBUM\", \"caption\": \"Should ...</td>\n",
       "      <td>604</td>\n",
       "      <td>164581</td>\n",
       "      <td>2023-03-28</td>\n",
       "      <td>2023-01-18 11:32:43.549401+00</td>\n",
       "      <td>2023-01-18 11:32:43.549401+00</td>\n",
       "      <td>Ck6FuFrp9TC</td>\n",
       "      <td>0</td>\n",
       "      <td>0</td>\n",
       "      <td>{aesthetic,nature,photography,softpicture,vars...</td>\n",
       "    </tr>\n",
       "  </tbody>\n",
       "</table>\n",
       "</div>"
      ],
      "text/plain": [
       "         ig_id            post_id  \\\n",
       "0    695431428  17951452121135417   \n",
       "1   3114552540  17919790229430698   \n",
       "2    695431428  17906273285693178   \n",
       "3    210917789  18348198751004047   \n",
       "4  52685013142  18313939324067862   \n",
       "\n",
       "                                 permalink_url  \\\n",
       "0  https://www.instagram.com/reel/ClRAHEkJrIN/   \n",
       "1  https://www.instagram.com/reel/Cgt-wnvBl7x/   \n",
       "2  https://www.instagram.com/reel/CmwIATFtAeq/   \n",
       "3  https://www.instagram.com/reel/CpcGEnfLeNa/   \n",
       "4     https://www.instagram.com/p/Ck6FuFrp9TC/   \n",
       "\n",
       "                                            metadata  comments   likes  \\\n",
       "0  {\"type\": \"VIDEO\", \"caption\": \"Problem of Every...       160   11359   \n",
       "1  {\"type\": \"VIDEO\", \"caption\": \"Is starbucks ove...       528  190695   \n",
       "2  {\"type\": \"VIDEO\", \"caption\": \"Boys will be Con...       506   26173   \n",
       "3  {\"type\": \"VIDEO\", \"caption\": \"All the best to ...        61    3848   \n",
       "4  {\"type\": \"CAROUSEL_ALBUM\", \"caption\": \"Should ...       604  164581   \n",
       "\n",
       "      crawled                     created_at                     updated_at  \\\n",
       "0  2023-02-07  2022-11-22 14:59:24.479204+00  2022-11-22 14:59:24.479204+00   \n",
       "1  2023-02-07  2023-01-13 11:29:13.752286+00  2023-01-13 11:29:13.752286+00   \n",
       "2  2023-02-07  2022-12-29 17:29:34.072072+00  2022-12-29 17:29:34.072072+00   \n",
       "3  2023-03-28  2023-03-06 09:56:58.910507+00  2023-03-06 09:56:58.910507+00   \n",
       "4  2023-03-28  2023-01-18 11:32:43.549401+00  2023-01-18 11:32:43.549401+00   \n",
       "\n",
       "          slug    views    plays  \\\n",
       "0  ClRAHEkJrIN        0        0   \n",
       "1  Cgt-wnvBl7x  2583796  4362765   \n",
       "2  CmwIATFtAeq        0        0   \n",
       "3  CpcGEnfLeNa        0        0   \n",
       "4  Ck6FuFrp9TC        0        0   \n",
       "\n",
       "                                            hashtags  \n",
       "0                                                NaN  \n",
       "1       {funny,funnyvideos,starbucks,relatablememes}  \n",
       "2                                                NaN  \n",
       "3              {loveyouram,undalaniundhi,telugusong}  \n",
       "4  {aesthetic,nature,photography,softpicture,vars...  "
      ]
     },
     "execution_count": 84,
     "metadata": {},
     "output_type": "execute_result"
    }
   ],
   "source": [
    "profile_post.head()"
   ]
  },
  {
   "cell_type": "code",
   "execution_count": 86,
   "id": "76261cf7",
   "metadata": {},
   "outputs": [
    {
     "data": {
      "text/plain": [
       "Index(['ig_id', 'post_id', 'comments', 'likes', 'views', 'plays'], dtype='object')"
      ]
     },
     "execution_count": 86,
     "metadata": {},
     "output_type": "execute_result"
    }
   ],
   "source": [
    "#columns with object data type\n",
    "Numerical=profile_post.dtypes[profile_post.dtypes==\"int64\"].index\n",
    "Numerical"
   ]
  },
  {
   "cell_type": "code",
   "execution_count": 88,
   "id": "8db73b2f",
   "metadata": {},
   "outputs": [
    {
     "data": {
      "text/plain": [
       "Index(['permalink_url', 'metadata', 'crawled', 'created_at', 'updated_at',\n",
       "       'slug', 'hashtags'],\n",
       "      dtype='object')"
      ]
     },
     "execution_count": 88,
     "metadata": {},
     "output_type": "execute_result"
    }
   ],
   "source": [
    "categorical=profile_post.dtypes[profile_post.dtypes==\"object\"].index\n",
    "categorical"
   ]
  },
  {
   "cell_type": "code",
   "execution_count": 90,
   "id": "d977f0e0",
   "metadata": {},
   "outputs": [
    {
     "data": {
      "text/html": [
       "<div>\n",
       "<style scoped>\n",
       "    .dataframe tbody tr th:only-of-type {\n",
       "        vertical-align: middle;\n",
       "    }\n",
       "\n",
       "    .dataframe tbody tr th {\n",
       "        vertical-align: top;\n",
       "    }\n",
       "\n",
       "    .dataframe thead th {\n",
       "        text-align: right;\n",
       "    }\n",
       "</style>\n",
       "<table border=\"1\" class=\"dataframe\">\n",
       "  <thead>\n",
       "    <tr style=\"text-align: right;\">\n",
       "      <th></th>\n",
       "      <th>ig_id</th>\n",
       "      <th>comments</th>\n",
       "      <th>likes</th>\n",
       "      <th>views</th>\n",
       "      <th>plays</th>\n",
       "    </tr>\n",
       "  </thead>\n",
       "  <tbody>\n",
       "    <tr>\n",
       "      <th>count</th>\n",
       "      <td>6.372700e+04</td>\n",
       "      <td>63727.000000</td>\n",
       "      <td>6.372700e+04</td>\n",
       "      <td>6.372700e+04</td>\n",
       "      <td>6.372700e+04</td>\n",
       "    </tr>\n",
       "    <tr>\n",
       "      <th>mean</th>\n",
       "      <td>6.599213e+09</td>\n",
       "      <td>369.885653</td>\n",
       "      <td>6.617033e+04</td>\n",
       "      <td>1.578315e+05</td>\n",
       "      <td>2.961977e+05</td>\n",
       "    </tr>\n",
       "    <tr>\n",
       "      <th>std</th>\n",
       "      <td>1.282426e+10</td>\n",
       "      <td>2398.704818</td>\n",
       "      <td>1.964479e+05</td>\n",
       "      <td>7.082733e+05</td>\n",
       "      <td>1.378904e+06</td>\n",
       "    </tr>\n",
       "    <tr>\n",
       "      <th>min</th>\n",
       "      <td>2.246390e+05</td>\n",
       "      <td>0.000000</td>\n",
       "      <td>0.000000e+00</td>\n",
       "      <td>0.000000e+00</td>\n",
       "      <td>0.000000e+00</td>\n",
       "    </tr>\n",
       "    <tr>\n",
       "      <th>25%</th>\n",
       "      <td>4.786870e+08</td>\n",
       "      <td>16.000000</td>\n",
       "      <td>1.229000e+03</td>\n",
       "      <td>0.000000e+00</td>\n",
       "      <td>0.000000e+00</td>\n",
       "    </tr>\n",
       "    <tr>\n",
       "      <th>50%</th>\n",
       "      <td>1.797721e+09</td>\n",
       "      <td>75.000000</td>\n",
       "      <td>1.260400e+04</td>\n",
       "      <td>0.000000e+00</td>\n",
       "      <td>0.000000e+00</td>\n",
       "    </tr>\n",
       "    <tr>\n",
       "      <th>75%</th>\n",
       "      <td>4.795288e+09</td>\n",
       "      <td>259.000000</td>\n",
       "      <td>5.506050e+04</td>\n",
       "      <td>1.993550e+04</td>\n",
       "      <td>4.200300e+04</td>\n",
       "    </tr>\n",
       "    <tr>\n",
       "      <th>max</th>\n",
       "      <td>5.492189e+10</td>\n",
       "      <td>518882.000000</td>\n",
       "      <td>7.120823e+06</td>\n",
       "      <td>2.752564e+07</td>\n",
       "      <td>1.107832e+08</td>\n",
       "    </tr>\n",
       "  </tbody>\n",
       "</table>\n",
       "</div>"
      ],
      "text/plain": [
       "              ig_id       comments         likes         views         plays\n",
       "count  6.372700e+04   63727.000000  6.372700e+04  6.372700e+04  6.372700e+04\n",
       "mean   6.599213e+09     369.885653  6.617033e+04  1.578315e+05  2.961977e+05\n",
       "std    1.282426e+10    2398.704818  1.964479e+05  7.082733e+05  1.378904e+06\n",
       "min    2.246390e+05       0.000000  0.000000e+00  0.000000e+00  0.000000e+00\n",
       "25%    4.786870e+08      16.000000  1.229000e+03  0.000000e+00  0.000000e+00\n",
       "50%    1.797721e+09      75.000000  1.260400e+04  0.000000e+00  0.000000e+00\n",
       "75%    4.795288e+09     259.000000  5.506050e+04  1.993550e+04  4.200300e+04\n",
       "max    5.492189e+10  518882.000000  7.120823e+06  2.752564e+07  1.107832e+08"
      ]
     },
     "execution_count": 90,
     "metadata": {},
     "output_type": "execute_result"
    }
   ],
   "source": [
    "profile_post_copy=profile_post.copy()\n",
    "profile_post_copy.drop(\"post_id\",axis=1,inplace=True)\n",
    "profile_post_copy.describe(include=[np.number])"
   ]
  },
  {
   "cell_type": "markdown",
   "id": "86d36b51",
   "metadata": {},
   "source": [
    "# Feature Engineering for Profile Data "
   ]
  },
  {
   "cell_type": "code",
   "execution_count": 2,
   "id": "20f83514",
   "metadata": {},
   "outputs": [],
   "source": [
    "profile_post['hashtags'].fillna(0,inplace=True)\n",
    "meta_list=list(profile_post['metadata'])\n",
    "time_list=[]\n",
    "caption_list=[]\n",
    "text_caption_list=[]\n",
    "hashtag_list=[]\n",
    "day_of_week_list=[]\n",
    "hour_list=[]\n",
    "post_type_list=[]\n",
    "asking_question_in_caption_list=[]\n",
    "\n",
    "def timestamp(i,j):\n",
    "    \n",
    "    global time_list\n",
    "    global caption_list\n",
    "    global text_caption_list\n",
    "    global hashtag_list\n",
    "    global day_of_week_list\n",
    "    global hour_list\n",
    "    global post_type_lists\n",
    "    global asking_question_in_caption_list\n",
    "    \n",
    "    res = json.loads(i)\n",
    "    time_value=res['timestamp']\n",
    "    post_type=res[\"type\"]\n",
    "    day_of_week=pd.Timestamp(time_value).dayofweek\n",
    "    hour_of_day=pd.Timestamp(time_value).hour\n",
    "    day_of_week_list.append(day_of_week)\n",
    "    hour_list.append(hour_of_day)\n",
    "    post_type_list.append(post_type)\n",
    "    \n",
    "    \n",
    "    if 'caption' in list(res.keys()):\n",
    "        caption_value=res['caption']\n",
    "        text=caption_value.split('\\n')[0]\n",
    "        if '?' in text:\n",
    "            asking_question_in_caption_list.append('Yes')\n",
    "        else:\n",
    "            asking_question_in_caption_list.append('No')\n",
    "       \n",
    "        text_caption_list.append(text)\n",
    "        caption_list.append(caption_value)\n",
    "        time_list.append(time_value)\n",
    "    else:\n",
    "        time_list.append(time_value)\n",
    "        caption_list.append('No Caption')\n",
    "        text_caption_list.append('No Caption')\n",
    "        asking_question_in_caption_list.append('No')\n",
    "    if j!=0:\n",
    "        no_of_hashtags=len(j.strip('{}').split(','))\n",
    "        hashtag_list.append(no_of_hashtags)\n",
    "    else:\n",
    "        no_of_hashtags=0\n",
    "        hashtag_list.append(no_of_hashtags)\n",
    "        \n",
    "    \n",
    "\n",
    "profile_post.apply(lambda x: timestamp(x['metadata'],x['hashtags']),axis=1)\n",
    "profile_post['timestamp']=time_list\n",
    "profile_post['Caption']=caption_list\n",
    "profile_post['Text_Caption']=text_caption_list\n",
    "profile_post['No_of_Hashtags']=hashtag_list\n",
    "profile_post['day_of_week']=day_of_week_list\n",
    "profile_post['Hour']=hour_list\n",
    "profile_post['post_type']=post_type_list\n",
    "profile_post['asking_question_in_caption']=asking_question_in_caption_list"
   ]
  },
  {
   "cell_type": "code",
   "execution_count": 3,
   "id": "8e0eba5c",
   "metadata": {},
   "outputs": [],
   "source": [
    "import numpy as np\n",
    "#New Variable: Time_of_day\n",
    "conditions = [\n",
    "    (profile_post['Hour'] >= 0)&(profile_post['Hour']<=4),\n",
    "    (profile_post['Hour'] > 4 )&( profile_post['Hour'] <= 12),\n",
    "    (profile_post['Hour'] > 13 )& (profile_post['Hour'] <= 16),\n",
    "    (profile_post['Hour'] > 16) & (profile_post['Hour'] <= 21),\n",
    "    (profile_post['Hour'] > 21) & (profile_post['Hour'] <= 24)]\n",
    "\n",
    "# create a list of the values we want to assign for each condition\n",
    "values = ['Early Morning', 'Morning', 'Afternoon', 'Evening','Night']\n",
    "\n",
    "# create a new column and use np.select to assign values to it using our lists as arguments\n",
    "profile_post[\"Time_of_day\"] = np.select(conditions, values)   "
   ]
  },
  {
   "cell_type": "code",
   "execution_count": 4,
   "id": "01302082",
   "metadata": {},
   "outputs": [],
   "source": [
    "#creating and merging data \n",
    "final_creater_dataframe=profile_post.merge(profile,on='ig_id')\n",
    "final_creater_dataframe = final_creater_dataframe.sort_values(by=[\"ig_id\",\"timestamp\"])\n",
    "\n",
    "#creating a new feature for average comments \n",
    "final_creater_dataframe['Avg_comments']=final_creater_dataframe.groupby('username')['comments'].transform('mean')\n",
    "\n",
    "#creating a new feature for average likes\n",
    "final_creater_dataframe['Avg_likes']=final_creater_dataframe.groupby('username')['likes'].transform('mean')\n"
   ]
  },
  {
   "cell_type": "markdown",
   "id": "512f4373",
   "metadata": {},
   "source": [
    "# Feature Engineering using NLP - Sentiment Analyisis"
   ]
  },
  {
   "cell_type": "code",
   "execution_count": 5,
   "id": "41bd566f",
   "metadata": {},
   "outputs": [
    {
     "name": "stderr",
     "output_type": "stream",
     "text": [
      "C:\\Users\\Ipshita\\AppData\\Local\\Temp/ipykernel_32176/4258770116.py:5: FutureWarning: The default value of regex will change from True to False in a future version.\n",
      "  final_creater_dataframe['Text_Caption'] = final_creater_dataframe['Text_Caption'].str.replace('[{}]'.format(string.punctuation), '')\n"
     ]
    }
   ],
   "source": [
    "\n",
    "#removing stop words\n",
    "final_creater_dataframe['Text_Caption'] = final_creater_dataframe['Text_Caption'].apply(lambda x: ' '.join([word for word in x.split() if word not in (stop)]))\n",
    "\n",
    "#removing puncuations\n",
    "final_creater_dataframe['Text_Caption'] = final_creater_dataframe['Text_Caption'].str.replace('[{}]'.format(string.punctuation), '')\n",
    "\n",
    "#lowercasing the words\n",
    "final_creater_dataframe['Text_Caption'] = final_creater_dataframe['Text_Caption'].str.lower()\n",
    "\n",
    "#lemmetizations \n",
    "final_creater_dataframe['Text_Caption'] = final_creater_dataframe['Text_Caption'].apply(lambda x: ' '.join([lmtzr.lemmatize(word,'v')                                                                                             \n",
    "                                                          for word in x.split() ]))\n",
    "\n",
    "#Setiment Analyis\n",
    "final_creater_dataframe['Text_Caption'] = final_creater_dataframe['Text_Caption'].astype(str)\n",
    "\n",
    "# compute sentiment scores (polarity) and labels\n",
    "sentiment_scores = [round(TextBlob(var).sentiment.polarity, 3) for var in final_creater_dataframe['Text_Caption']]\n",
    "sentiment_category = [\"positive\" if score >= 0  else \"negative\"  for score in sentiment_scores ]\n",
    "final_creater_dataframe['Post_Sentiments']=sentiment_category"
   ]
  },
  {
   "cell_type": "markdown",
   "id": "479a88f9",
   "metadata": {},
   "source": [
    "# Biavariate Analysis "
   ]
  },
  {
   "cell_type": "code",
   "execution_count": 6,
   "id": "b322ad2c",
   "metadata": {},
   "outputs": [
    {
     "name": "stderr",
     "output_type": "stream",
     "text": [
      "C:\\Users\\Ipshita\\AppData\\Local\\Temp/ipykernel_32176/2716237174.py:2: FutureWarning: The default value of numeric_only in DataFrame.corr is deprecated. In a future version, it will default to False. Select only valid columns or specify the value of numeric_only to silence this warning.\n",
      "  corrmat = final_creater_dataframe.corr()\n"
     ]
    },
    {
     "name": "stdout",
     "output_type": "stream",
     "text": [
      "['likes' 'Avg_likes' 'followers' 'Avg_comments' 'views' 'plays' 'comments'\n",
      " 'day_of_week' 'Hour' 'total_post_count']\n"
     ]
    },
    {
     "data": {
      "image/png": "[encoded data removed]",
      "text/plain": [
       "<Figure size 432x288 with 2 Axes>"
      ]
     },
     "metadata": {},
     "output_type": "display_data"
    }
   ],
   "source": [
    "#corelation matrix for top 10 features for like\n",
    "corrmat = final_creater_dataframe.corr()\n",
    "k=10\n",
    "cols=corrmat.nlargest(10,'likes')['likes'].index\n",
    "print(cols.values)\n",
    "cm=np.corrcoef(final_creater_dataframe[cols].values.T)\n",
    "sb.set(font_scale=1)\n",
    "hm = sb.heatmap(cm,cbar=True,annot=True,square=True,fmt='.2f',annot_kws={'size': 8},yticklabels=cols.values,xticklabels=cols.values)\n",
    "plt.show()"
   ]
  },
  {
   "cell_type": "code",
   "execution_count": 7,
   "id": "55b47109",
   "metadata": {},
   "outputs": [
    {
     "name": "stderr",
     "output_type": "stream",
     "text": [
      "C:\\Users\\Ipshita\\AppData\\Local\\Temp/ipykernel_32176/653026658.py:1: FutureWarning: The default value of numeric_only in DataFrame.corr is deprecated. In a future version, it will default to False. Select only valid columns or specify the value of numeric_only to silence this warning.\n",
      "  corrmat =final_creater_dataframe.corr()\n"
     ]
    },
    {
     "name": "stdout",
     "output_type": "stream",
     "text": [
      "['comments' 'likes' 'Avg_comments' 'Avg_likes' 'followers' 'views' 'plays'\n",
      " 'day_of_week' 'Hour' 'follows']\n"
     ]
    },
    {
     "data": {
      "image/png": "[encoded data removed]",
      "text/plain": [
       "<Figure size 432x288 with 2 Axes>"
      ]
     },
     "metadata": {},
     "output_type": "display_data"
    }
   ],
   "source": [
    "corrmat =final_creater_dataframe.corr()\n",
    "k=10\n",
    "cols=corrmat.nlargest(10,'comments')['comments'].index\n",
    "print(cols.values)\n",
    "cm=np.corrcoef(final_creater_dataframe[cols].values.T)\n",
    "sb.set(font_scale=1)\n",
    "hm = sb.heatmap(cm,cbar=True,annot=True,square=True,fmt='.2f',annot_kws={'size': 8},yticklabels=cols.values,xticklabels=cols.values)\n",
    "plt.show()"
   ]
  },
  {
   "cell_type": "markdown",
   "id": "eb542e37",
   "metadata": {},
   "source": [
    "# Image Feature"
   ]
  },
  {
   "cell_type": "code",
   "execution_count": 8,
   "id": "bdec6896",
   "metadata": {},
   "outputs": [],
   "source": [
    "Image_Feature=pd.read_csv('Image_feature.csv')\n",
    "final=pd.merge(final_creater_dataframe,Image_Feature,on='username')"
   ]
  },
  {
   "cell_type": "markdown",
   "id": "dd993184",
   "metadata": {},
   "source": [
    "# Label Encoding"
   ]
  },
  {
   "cell_type": "code",
   "execution_count": 9,
   "id": "ffe85189",
   "metadata": {},
   "outputs": [],
   "source": [
    "# Import label encoder\n",
    "from sklearn import preprocessing\n",
    "label_encoder = preprocessing.LabelEncoder()\n",
    "  \n",
    "# Encode labels in column 'species'.\n",
    "final['username']= label_encoder.fit_transform(final['username'])\n",
    "final['Post_Sentiments']= label_encoder.fit_transform(final['Post_Sentiments'])\n",
    "final['Time_of_day']=label_encoder.fit_transform(final['Time_of_day'])\n",
    "final['post_type']=label_encoder.fit_transform(final['post_type'])\n",
    "final['asking_question_in_caption']=label_encoder.fit_transform(final['asking_question_in_caption'])\n",
    "final['brigntness']=label_encoder.fit_transform(final['brightness'])\n"
   ]
  },
  {
   "cell_type": "code",
   "execution_count": 10,
   "id": "ffc71d77",
   "metadata": {},
   "outputs": [],
   "source": [
    "final.drop(['crawled_y','app_crawled','metadata_x','metadata_y','slug','created_at_y','updated_at_y','crawled_y','hashtags','crawled_x','Caption','Text_Caption','permalink_url', 'created_at_x', 'updated_at_x', 'timestamp','post_id'],axis=1,inplace=True)"
   ]
  },
  {
   "cell_type": "code",
   "execution_count": 12,
   "id": "a5889868",
   "metadata": {},
   "outputs": [],
   "source": [
    "#spliting the data for train and test \n",
    "test = final.groupby('ig_id').tail(5)\n",
    "final.drop(final.groupby('ig_id').tail(5).index, axis=0,inplace=True)"
   ]
  },
  {
   "cell_type": "markdown",
   "id": "359c8462",
   "metadata": {},
   "source": [
    "# Predict no of like in a post"
   ]
  },
  {
   "cell_type": "code",
   "execution_count": 19,
   "id": "a45fa8e4",
   "metadata": {},
   "outputs": [],
   "source": [
    "#----------train data-------------------------- \n",
    "x_train = final[[ 'No_of_Hashtags',\n",
    "       'day_of_week',  'Post_Sentiments','Time_of_day','post_type','followers','brightness','face_detection']]\n",
    "y_train=final['likes']\n",
    "\n",
    "#--------test data------------------------------\n",
    "test_x= test[[ 'No_of_Hashtags','day_of_week',  'Post_Sentiments','Time_of_day','post_type','followers','brightness','face_detection']]\n",
    "\n",
    "test_y =test['likes']"
   ]
  },
  {
   "cell_type": "markdown",
   "id": "55297d38",
   "metadata": {},
   "source": [
    "# Scaling"
   ]
  },
  {
   "cell_type": "code",
   "execution_count": 20,
   "id": "d18a97cd",
   "metadata": {},
   "outputs": [],
   "source": [
    "from sklearn.preprocessing import StandardScaler\n",
    "sc_X = StandardScaler()\n",
    "x_train = sc_X.fit_transform(x_train)\n",
    "x_test = sc_X.transform(test_x)\n",
    "\n",
    "sc_Y = StandardScaler()\n",
    "y_train=y_train.values.reshape(-1,1)\n",
    "sc_Y.fit_transform(y_train)\n",
    "y_train=sc_Y.transform(y_train)\n",
    "y_test=test_y.values.reshape(-1,1)\n",
    "y_test=sc_Y.transform(y_test)"
   ]
  },
  {
   "cell_type": "code",
   "execution_count": 22,
   "id": "a34cc900",
   "metadata": {},
   "outputs": [
    {
     "data": {
      "text/plain": [
       "(61085, 8)"
      ]
     },
     "execution_count": 22,
     "metadata": {},
     "output_type": "execute_result"
    }
   ],
   "source": [
    "x_train.shape"
   ]
  },
  {
   "cell_type": "code",
   "execution_count": 23,
   "id": "cb878795",
   "metadata": {},
   "outputs": [
    {
     "data": {
      "text/plain": [
       "(61085, 1)"
      ]
     },
     "execution_count": 23,
     "metadata": {},
     "output_type": "execute_result"
    }
   ],
   "source": [
    "y_train.shape"
   ]
  },
  {
   "cell_type": "markdown",
   "id": "5ed012a9",
   "metadata": {},
   "source": [
    "# Model Buidling : Random Forest"
   ]
  },
  {
   "cell_type": "code",
   "execution_count": 179,
   "id": "92623f14",
   "metadata": {},
   "outputs": [
    {
     "name": "stderr",
     "output_type": "stream",
     "text": [
      "C:\\Users\\Ipshita\\AppData\\Local\\Temp/ipykernel_13048/3725149578.py:5: DataConversionWarning: A column-vector y was passed when a 1d array was expected. Please change the shape of y to (n_samples,), for example using ravel().\n",
      "  classifier_rf.fit(x_train, y_train)\n"
     ]
    },
    {
     "data": {
      "text/html": [
       "<style>#sk-container-id-12 {color: black;background-color: white;}#sk-container-id-12 pre{padding: 0;}#sk-container-id-12 div.sk-toggleable {background-color: white;}#sk-container-id-12 label.sk-toggleable__label {cursor: pointer;display: block;width: 100%;margin-bottom: 0;padding: 0.3em;box-sizing: border-box;text-align: center;}#sk-container-id-12 label.sk-toggleable__label-arrow:before {content: \"▸\";float: left;margin-right: 0.25em;color: #696969;}#sk-container-id-12 label.sk-toggleable__label-arrow:hover:before {color: black;}#sk-container-id-12 div.sk-estimator:hover label.sk-toggleable__label-arrow:before {color: black;}#sk-container-id-12 div.sk-toggleable__content {max-height: 0;max-width: 0;overflow: hidden;text-align: left;background-color: #f0f8ff;}#sk-container-id-12 div.sk-toggleable__content pre {margin: 0.2em;color: black;border-radius: 0.25em;background-color: #f0f8ff;}#sk-container-id-12 input.sk-toggleable__control:checked~div.sk-toggleable__content {max-height: 200px;max-width: 100%;overflow: auto;}#sk-container-id-12 input.sk-toggleable__control:checked~label.sk-toggleable__label-arrow:before {content: \"▾\";}#sk-container-id-12 div.sk-estimator input.sk-toggleable__control:checked~label.sk-toggleable__label {background-color: #d4ebff;}#sk-container-id-12 div.sk-label input.sk-toggleable__control:checked~label.sk-toggleable__label {background-color: #d4ebff;}#sk-container-id-12 input.sk-hidden--visually {border: 0;clip: rect(1px 1px 1px 1px);clip: rect(1px, 1px, 1px, 1px);height: 1px;margin: -1px;overflow: hidden;padding: 0;position: absolute;width: 1px;}#sk-container-id-12 div.sk-estimator {font-family: monospace;background-color: #f0f8ff;border: 1px dotted black;border-radius: 0.25em;box-sizing: border-box;margin-bottom: 0.5em;}#sk-container-id-12 div.sk-estimator:hover {background-color: #d4ebff;}#sk-container-id-12 div.sk-parallel-item::after {content: \"\";width: 100%;border-bottom: 1px solid gray;flex-grow: 1;}#sk-container-id-12 div.sk-label:hover label.sk-toggleable__label {background-color: #d4ebff;}#sk-container-id-12 div.sk-serial::before {content: \"\";position: absolute;border-left: 1px solid gray;box-sizing: border-box;top: 0;bottom: 0;left: 50%;z-index: 0;}#sk-container-id-12 div.sk-serial {display: flex;flex-direction: column;align-items: center;background-color: white;padding-right: 0.2em;padding-left: 0.2em;position: relative;}#sk-container-id-12 div.sk-item {position: relative;z-index: 1;}#sk-container-id-12 div.sk-parallel {display: flex;align-items: stretch;justify-content: center;background-color: white;position: relative;}#sk-container-id-12 div.sk-item::before, #sk-container-id-12 div.sk-parallel-item::before {content: \"\";position: absolute;border-left: 1px solid gray;box-sizing: border-box;top: 0;bottom: 0;left: 50%;z-index: -1;}#sk-container-id-12 div.sk-parallel-item {display: flex;flex-direction: column;z-index: 1;position: relative;background-color: white;}#sk-container-id-12 div.sk-parallel-item:first-child::after {align-self: flex-end;width: 50%;}#sk-container-id-12 div.sk-parallel-item:last-child::after {align-self: flex-start;width: 50%;}#sk-container-id-12 div.sk-parallel-item:only-child::after {width: 0;}#sk-container-id-12 div.sk-dashed-wrapped {border: 1px dashed gray;margin: 0 0.4em 0.5em 0.4em;box-sizing: border-box;padding-bottom: 0.4em;background-color: white;}#sk-container-id-12 div.sk-label label {font-family: monospace;font-weight: bold;display: inline-block;line-height: 1.2em;}#sk-container-id-12 div.sk-label-container {text-align: center;}#sk-container-id-12 div.sk-container {/* jupyter's `normalize.less` sets `[hidden] { display: none; }` but bootstrap.min.css set `[hidden] { display: none !important; }` so we also need the `!important` here to be able to override the default hidden behavior on the sphinx rendered scikit-learn.org. See: https://github.com/scikit-learn/scikit-learn/issues/21755 */display: inline-block !important;position: relative;}#sk-container-id-12 div.sk-text-repr-fallback {display: none;}</style><div id=\"sk-container-id-12\" class=\"sk-top-container\"><div class=\"sk-text-repr-fallback\"><pre>RandomForestRegressor(max_depth=4, n_jobs=-1, oob_score=True, random_state=50)</pre><b>In a Jupyter environment, please rerun this cell to show the HTML representation or trust the notebook. <br />On GitHub, the HTML representation is unable to render, please try loading this page with nbviewer.org.</b></div><div class=\"sk-container\" hidden><div class=\"sk-item\"><div class=\"sk-estimator sk-toggleable\"><input class=\"sk-toggleable__control sk-hidden--visually\" id=\"sk-estimator-id-12\" type=\"checkbox\" checked><label for=\"sk-estimator-id-12\" class=\"sk-toggleable__label sk-toggleable__label-arrow\">RandomForestRegressor</label><div class=\"sk-toggleable__content\"><pre>RandomForestRegressor(max_depth=4, n_jobs=-1, oob_score=True, random_state=50)</pre></div></div></div></div></div>"
      ],
      "text/plain": [
       "RandomForestRegressor(max_depth=4, n_jobs=-1, oob_score=True, random_state=50)"
      ]
     },
     "execution_count": 179,
     "metadata": {},
     "output_type": "execute_result"
    }
   ],
   "source": [
    "from sklearn.ensemble import RandomForestRegressor\n",
    "classifier_rf = RandomForestRegressor(random_state=50, n_jobs=-1, max_depth=4,\n",
    "                                       n_estimators=100, oob_score=True)\n",
    "\n",
    "classifier_rf.fit(x_train, y_train)"
   ]
  },
  {
   "cell_type": "markdown",
   "id": "eb7e3af5",
   "metadata": {},
   "source": [
    "# Evaluation Meterics"
   ]
  },
  {
   "cell_type": "code",
   "execution_count": 180,
   "id": "6a867c8e",
   "metadata": {},
   "outputs": [
    {
     "name": "stdout",
     "output_type": "stream",
     "text": [
      "Test: Accuracy 0.5625022175362735\n",
      "Train Accuracy 0.5087451965470191\n",
      "r-squared: 0.5625022175362735\n",
      "adjusted r square :0.5624449121747614\n",
      "VIF: 2.285725871268642\n",
      "---------------------------------------\n",
      "Mean absolute error: 0.25030575457075804\n",
      "Mean squared error : 0.6879557373035037\n",
      "Root mean squared error: 0.8294309719943569\n"
     ]
    }
   ],
   "source": [
    "\n",
    "pred = classifier_rf.predict(x_test)\n",
    "print(\"Test: Accuracy\",classifier_rf.score(x_test,y_test))\n",
    "print(\"Train Accuracy\",classifier_rf.score(x_train,y_train))\n",
    "\n",
    "def linear_metrics():\n",
    "    \n",
    "    r2  = classifier_rf.score(x_test, y_test)\n",
    "    MAE = metrics.mean_absolute_error(y_test,pred)\n",
    "    MSE = metrics.mean_squared_error(y_test,pred) \n",
    "    RMSE= (np.sqrt(metrics.mean_squared_error(y_test,pred)))\n",
    "    adjusted_r_squared = 1 - (1-r2)*(len(y_train)-1)/(len(y_train)-x_train.shape[1]-1)\n",
    "    VIF= 1/(1-r2)\n",
    "    \n",
    "    print('r-squared: {}'.format(r2))\n",
    "    print('adjusted r square :{}'.format(adjusted_r_squared))\n",
    "    print('VIF: {}'.format(VIF))\n",
    "    \n",
    "    print('---------------------------------------')\n",
    "    print('Mean absolute error: {}'.format(MAE))\n",
    "    print('Mean squared error : {}'.format(MSE))\n",
    "    print('Root mean squared error: {}'.format(RMSE))\n",
    "    \n",
    "linear_metrics()"
   ]
  },
  {
   "cell_type": "markdown",
   "id": "c3ff5d10",
   "metadata": {},
   "source": [
    "# Predict no of comments "
   ]
  },
  {
   "cell_type": "code",
   "execution_count": 24,
   "id": "e6cdab18",
   "metadata": {},
   "outputs": [],
   "source": [
    "#----------train data-------------------------- \n",
    "x_train = final[[ 'No_of_Hashtags', 'followers',\n",
    "       'day_of_week', 'username', 'Avg_comments', 'Post_Sentiments','Time_of_day','post_type','brightness','face_detection']]\n",
    "y_train=final['comments']\n",
    "#converting pandas dataframe to series\n",
    "#y_train=y_train.squeeze()\n",
    "\n",
    "#--------test data------------------------------\n",
    "test_x= test[['No_of_Hashtags','followers',\n",
    "       'day_of_week',  'username', 'Avg_comments', 'Post_Sentiments','Time_of_day','post_type','brightness','face_detection']]\n",
    "\n",
    "test_y =test['comments']\n"
   ]
  },
  {
   "cell_type": "markdown",
   "id": "6734cdad",
   "metadata": {},
   "source": [
    "# Scaling"
   ]
  },
  {
   "cell_type": "code",
   "execution_count": 25,
   "id": "89ae1ac9",
   "metadata": {},
   "outputs": [],
   "source": [
    "from sklearn.preprocessing import StandardScaler\n",
    "sc_X = StandardScaler()\n",
    "x_train = sc_X.fit_transform(x_train)\n",
    "x_test = sc_X.transform(test_x)\n",
    "\n",
    "sc_Y = StandardScaler()\n",
    "y_train=y_train.values.reshape(-1,1)\n",
    "sc_Y.fit_transform(y_train)\n",
    "y_train=sc_Y.transform(y_train)\n",
    "y_test=test_y.values.reshape(-1,1)\n",
    "y_test=sc_Y.transform(y_test)"
   ]
  },
  {
   "cell_type": "markdown",
   "id": "7654058d",
   "metadata": {},
   "source": [
    "# Model Training"
   ]
  },
  {
   "cell_type": "code",
   "execution_count": 26,
   "id": "96dc1134",
   "metadata": {},
   "outputs": [
    {
     "name": "stderr",
     "output_type": "stream",
     "text": [
      "C:\\Users\\Ipshita\\AppData\\Local\\Temp/ipykernel_32176/2304720942.py:10: DataConversionWarning: A column-vector y was passed when a 1d array was expected. Please change the shape of y to (n_samples,), for example using ravel().\n",
      "  rf.fit(x_train, y_train)\n"
     ]
    },
    {
     "data": {
      "text/html": [
       "<style>#sk-container-id-1 {color: black;background-color: white;}#sk-container-id-1 pre{padding: 0;}#sk-container-id-1 div.sk-toggleable {background-color: white;}#sk-container-id-1 label.sk-toggleable__label {cursor: pointer;display: block;width: 100%;margin-bottom: 0;padding: 0.3em;box-sizing: border-box;text-align: center;}#sk-container-id-1 label.sk-toggleable__label-arrow:before {content: \"▸\";float: left;margin-right: 0.25em;color: #696969;}#sk-container-id-1 label.sk-toggleable__label-arrow:hover:before {color: black;}#sk-container-id-1 div.sk-estimator:hover label.sk-toggleable__label-arrow:before {color: black;}#sk-container-id-1 div.sk-toggleable__content {max-height: 0;max-width: 0;overflow: hidden;text-align: left;background-color: #f0f8ff;}#sk-container-id-1 div.sk-toggleable__content pre {margin: 0.2em;color: black;border-radius: 0.25em;background-color: #f0f8ff;}#sk-container-id-1 input.sk-toggleable__control:checked~div.sk-toggleable__content {max-height: 200px;max-width: 100%;overflow: auto;}#sk-container-id-1 input.sk-toggleable__control:checked~label.sk-toggleable__label-arrow:before {content: \"▾\";}#sk-container-id-1 div.sk-estimator input.sk-toggleable__control:checked~label.sk-toggleable__label {background-color: #d4ebff;}#sk-container-id-1 div.sk-label input.sk-toggleable__control:checked~label.sk-toggleable__label {background-color: #d4ebff;}#sk-container-id-1 input.sk-hidden--visually {border: 0;clip: rect(1px 1px 1px 1px);clip: rect(1px, 1px, 1px, 1px);height: 1px;margin: -1px;overflow: hidden;padding: 0;position: absolute;width: 1px;}#sk-container-id-1 div.sk-estimator {font-family: monospace;background-color: #f0f8ff;border: 1px dotted black;border-radius: 0.25em;box-sizing: border-box;margin-bottom: 0.5em;}#sk-container-id-1 div.sk-estimator:hover {background-color: #d4ebff;}#sk-container-id-1 div.sk-parallel-item::after {content: \"\";width: 100%;border-bottom: 1px solid gray;flex-grow: 1;}#sk-container-id-1 div.sk-label:hover label.sk-toggleable__label {background-color: #d4ebff;}#sk-container-id-1 div.sk-serial::before {content: \"\";position: absolute;border-left: 1px solid gray;box-sizing: border-box;top: 0;bottom: 0;left: 50%;z-index: 0;}#sk-container-id-1 div.sk-serial {display: flex;flex-direction: column;align-items: center;background-color: white;padding-right: 0.2em;padding-left: 0.2em;position: relative;}#sk-container-id-1 div.sk-item {position: relative;z-index: 1;}#sk-container-id-1 div.sk-parallel {display: flex;align-items: stretch;justify-content: center;background-color: white;position: relative;}#sk-container-id-1 div.sk-item::before, #sk-container-id-1 div.sk-parallel-item::before {content: \"\";position: absolute;border-left: 1px solid gray;box-sizing: border-box;top: 0;bottom: 0;left: 50%;z-index: -1;}#sk-container-id-1 div.sk-parallel-item {display: flex;flex-direction: column;z-index: 1;position: relative;background-color: white;}#sk-container-id-1 div.sk-parallel-item:first-child::after {align-self: flex-end;width: 50%;}#sk-container-id-1 div.sk-parallel-item:last-child::after {align-self: flex-start;width: 50%;}#sk-container-id-1 div.sk-parallel-item:only-child::after {width: 0;}#sk-container-id-1 div.sk-dashed-wrapped {border: 1px dashed gray;margin: 0 0.4em 0.5em 0.4em;box-sizing: border-box;padding-bottom: 0.4em;background-color: white;}#sk-container-id-1 div.sk-label label {font-family: monospace;font-weight: bold;display: inline-block;line-height: 1.2em;}#sk-container-id-1 div.sk-label-container {text-align: center;}#sk-container-id-1 div.sk-container {/* jupyter's `normalize.less` sets `[hidden] { display: none; }` but bootstrap.min.css set `[hidden] { display: none !important; }` so we also need the `!important` here to be able to override the default hidden behavior on the sphinx rendered scikit-learn.org. See: https://github.com/scikit-learn/scikit-learn/issues/21755 */display: inline-block !important;position: relative;}#sk-container-id-1 div.sk-text-repr-fallback {display: none;}</style><div id=\"sk-container-id-1\" class=\"sk-top-container\"><div class=\"sk-text-repr-fallback\"><pre>RandomForestRegressor(max_depth=7, n_estimators=50, n_jobs=-2, oob_score=True,\n",
       "                      random_state=4)</pre><b>In a Jupyter environment, please rerun this cell to show the HTML representation or trust the notebook. <br />On GitHub, the HTML representation is unable to render, please try loading this page with nbviewer.org.</b></div><div class=\"sk-container\" hidden><div class=\"sk-item\"><div class=\"sk-estimator sk-toggleable\"><input class=\"sk-toggleable__control sk-hidden--visually\" id=\"sk-estimator-id-1\" type=\"checkbox\" checked><label for=\"sk-estimator-id-1\" class=\"sk-toggleable__label sk-toggleable__label-arrow\">RandomForestRegressor</label><div class=\"sk-toggleable__content\"><pre>RandomForestRegressor(max_depth=7, n_estimators=50, n_jobs=-2, oob_score=True,\n",
       "                      random_state=4)</pre></div></div></div></div></div>"
      ],
      "text/plain": [
       "RandomForestRegressor(max_depth=7, n_estimators=50, n_jobs=-2, oob_score=True,\n",
       "                      random_state=4)"
      ]
     },
     "execution_count": 26,
     "metadata": {},
     "output_type": "execute_result"
    }
   ],
   "source": [
    "#from sklearn.ensemble import RandomForestRegressor\n",
    "#classifier_rf = RandomForestRegressor(random_state=50, n_jobs=-1, max_depth=4,\n",
    "#                                       n_estimators=100, oob_score=True)\n",
    "\n",
    "#classifier_rf.fit(x_train, y_train)\n",
    "from sklearn.ensemble import RandomForestRegressor\n",
    "rf = RandomForestRegressor(random_state=4, n_jobs=-2, max_depth=7,\n",
    "                                       n_estimators=50, oob_score=True)\n",
    "\n",
    "rf.fit(x_train, y_train)"
   ]
  },
  {
   "cell_type": "markdown",
   "id": "d1f4b6cf",
   "metadata": {},
   "source": [
    "# Evaluation meterics"
   ]
  },
  {
   "cell_type": "code",
   "execution_count": 27,
   "id": "07402083",
   "metadata": {},
   "outputs": [
    {
     "name": "stdout",
     "output_type": "stream",
     "text": [
      "Test: Accuracy 0.47766313248422043\n",
      "Train Accuracy 0.4113826485189529\n",
      "r-squared: 0.47766313248422043\n",
      "adjusted r square :0.4775776072414796\n",
      "VIF: 1.9144733259131674\n",
      "---------------------------------------\n",
      "Mean absolute error: 0.11083441659471745\n",
      "Mean squared error : 0.129090964571792\n",
      "Root mean squared error: 0.35929231076073975\n"
     ]
    }
   ],
   "source": [
    "\n",
    "pred = rf.predict(x_test)\n",
    "print(\"Test: Accuracy\",rf.score(x_test,y_test))\n",
    "print(\"Train Accuracy\",rf.score(x_train,y_train))\n",
    "\n",
    "def linear_metrics():\n",
    "    \n",
    "    r2  = rf.score(x_test, y_test)\n",
    "    MAE = metrics.mean_absolute_error(y_test,pred)\n",
    "    MSE = metrics.mean_squared_error(y_test,pred) \n",
    "    RMSE= (np.sqrt(metrics.mean_squared_error(y_test,pred)))\n",
    "    adjusted_r_squared = 1 - (1-r2)*(len(y_train)-1)/(len(y_train)-x_train.shape[1]-1)\n",
    "    VIF= 1/(1-r2)\n",
    "    \n",
    "    print('r-squared: {}'.format(r2))\n",
    "    print('adjusted r square :{}'.format(adjusted_r_squared))\n",
    "    print('VIF: {}'.format(VIF))\n",
    "    \n",
    "    print('---------------------------------------')\n",
    "    print('Mean absolute error: {}'.format(MAE))\n",
    "    print('Mean squared error : {}'.format(MSE))\n",
    "    print('Root mean squared error: {}'.format(RMSE))\n",
    "    \n",
    "linear_metrics()"
   ]
  },
  {
   "cell_type": "code",
   "execution_count": null,
   "id": "2efb26fb",
   "metadata": {},
   "outputs": [],
   "source": []
  }
 ],
 "metadata": {
  "kernelspec": {
   "display_name": "Python 3 (ipykernel)",
   "language": "python",
   "name": "python3"
  },
  "language_info": {
   "codemirror_mode": {
    "name": "ipython",
    "version": 3
   },
   "file_extension": ".py",
   "mimetype": "text/x-python",
   "name": "python",
   "nbconvert_exporter": "python",
   "pygments_lexer": "ipython3",
   "version": "3.8.10"
  }
 },
 "nbformat": 4,
 "nbformat_minor": 5
}
